{
 "cells": [
  {
   "cell_type": "code",
   "execution_count": 1,
   "id": "9d7f280d-3245-4f18-a1d5-d8f59aeee273",
   "metadata": {},
   "outputs": [
    {
     "name": "stdout",
     "output_type": "stream",
     "text": [
      "Hello Milliam\n"
     ]
    }
   ],
   "source": [
    "print(\"Hello Milliam\")"
   ]
  },
  {
   "cell_type": "code",
   "execution_count": 2,
   "id": "a8942c4e-99b8-488d-97b3-9310df6b32a0",
   "metadata": {},
   "outputs": [
    {
     "name": "stdout",
     "output_type": "stream",
     "text": [
      "Hello World!\n"
     ]
    }
   ],
   "source": [
    "print(\"Hello World!\")"
   ]
  },
  {
   "cell_type": "code",
   "execution_count": 3,
   "id": "3a359c36-8b61-4953-b6b3-ad07dba783e9",
   "metadata": {},
   "outputs": [
    {
     "data": {
      "text/plain": [
       "8"
      ]
     },
     "execution_count": 3,
     "metadata": {},
     "output_type": "execute_result"
    }
   ],
   "source": [
    "5 + 3 "
   ]
  },
  {
   "cell_type": "code",
   "execution_count": 6,
   "id": "3527e913-e76b-44dd-bace-d4575b98e3b8",
   "metadata": {},
   "outputs": [
    {
     "data": {
      "text/plain": [
       "5.0"
      ]
     },
     "execution_count": 6,
     "metadata": {},
     "output_type": "execute_result"
    }
   ],
   "source": [
    "5 + 3\n",
    "56 / 2\n",
    "45 / 9"
   ]
  },
  {
   "cell_type": "code",
   "execution_count": 7,
   "id": "2278fb33-7630-4dc4-a059-44b9717fe927",
   "metadata": {},
   "outputs": [
    {
     "name": "stdout",
     "output_type": "stream",
     "text": [
      "Hello World\n"
     ]
    }
   ],
   "source": [
    "print(\"Hello World\")\n",
    "#this a greeting"
   ]
  },
  {
   "cell_type": "code",
   "execution_count": 8,
   "id": "dd181e9f-2f90-49ac-adac-75d8f6974721",
   "metadata": {},
   "outputs": [
    {
     "name": "stdout",
     "output_type": "stream",
     "text": [
      "Name of respendonts\n"
     ]
    }
   ],
   "source": [
    "\"\"\"\n",
    "This comments\n",
    "Guide the user\n",
    "in understanding codes\n",
    "\"\"\"\n",
    "print(\"Name of respendonts\")"
   ]
  },
  {
   "cell_type": "code",
   "execution_count": 9,
   "id": "4240d801-ec8c-47d2-8a58-5a1c593c51b6",
   "metadata": {},
   "outputs": [
    {
     "name": "stdout",
     "output_type": "stream",
     "text": [
      "peter\n",
      "4\n"
     ]
    }
   ],
   "source": [
    "x = \"peter\"\n",
    "y = 4\n",
    "print(x)\n",
    "print(y)"
   ]
  },
  {
   "cell_type": "code",
   "execution_count": 10,
   "id": "63bcef2f-c308-4435-8607-ad7fa14732d4",
   "metadata": {},
   "outputs": [
    {
     "name": "stdout",
     "output_type": "stream",
     "text": [
      "Bella\n"
     ]
    }
   ],
   "source": [
    "x = \"John\"\n",
    "x = \"Bella\"\n",
    "print(x)"
   ]
  },
  {
   "cell_type": "code",
   "execution_count": 11,
   "id": "a88a9742-7bcd-4449-9f4a-973a018b9073",
   "metadata": {},
   "outputs": [
    {
     "name": "stdout",
     "output_type": "stream",
     "text": [
      "23\n"
     ]
    }
   ],
   "source": [
    "x = \"Bella\"\n",
    "x = 23\n",
    "print(x)"
   ]
  },
  {
   "cell_type": "code",
   "execution_count": 1,
   "id": "e0496008-1b3f-4833-8660-3969dd32481e",
   "metadata": {},
   "outputs": [
    {
     "name": "stdout",
     "output_type": "stream",
     "text": [
      "python is awesome\n"
     ]
    }
   ],
   "source": [
    "x = \"python\"\n",
    "y = \"is\"\n",
    "z = \"awesome\"\n",
    "print(x, y, z)"
   ]
  },
  {
   "cell_type": "code",
   "execution_count": 3,
   "id": "92b6fb7d-ab30-4419-a9ad-3ba36ed2e20f",
   "metadata": {},
   "outputs": [
    {
     "name": "stdout",
     "output_type": "stream",
     "text": [
      "Milliam\n"
     ]
    }
   ],
   "source": [
    "myvar = \"Milliam\"\n",
    "print(myvar)"
   ]
  },
  {
   "cell_type": "code",
   "execution_count": 4,
   "id": "0acd6e38-70ae-4beb-9741-92e5b58f3823",
   "metadata": {},
   "outputs": [
    {
     "name": "stdout",
     "output_type": "stream",
     "text": [
      "apple\n",
      "pawpaw\n",
      "orange\n"
     ]
    }
   ],
   "source": [
    "x, y, z = \"apple\", \"pawpaw\", \"orange\"\n",
    "print(x)\n",
    "print(y)\n",
    "print(z)"
   ]
  },
  {
   "cell_type": "code",
   "execution_count": 10,
   "id": "b238747b-3c97-4926-94be-fa7a2e587612",
   "metadata": {},
   "outputs": [
    {
     "name": "stdout",
     "output_type": "stream",
     "text": [
      "apple\n"
     ]
    }
   ],
   "source": [
    "x, y, z = (\"apple\", \"pawpaw\", \"orange\")\n",
    "print(x)"
   ]
  },
  {
   "cell_type": "code",
   "execution_count": 11,
   "id": "d5ed6fb4-32af-4f70-ae74-1854c8da95f7",
   "metadata": {},
   "outputs": [
    {
     "name": "stdout",
     "output_type": "stream",
     "text": [
      "abc\n"
     ]
    }
   ],
   "source": [
    "x = 6\n",
    "y = \"abc\"\n",
    "print(y)"
   ]
  },
  {
   "cell_type": "code",
   "execution_count": 13,
   "id": "b3172339-47a0-49c4-98b1-ef63da4aaf53",
   "metadata": {},
   "outputs": [
    {
     "name": "stdout",
     "output_type": "stream",
     "text": [
      "Python is amazing\n"
     ]
    }
   ],
   "source": [
    "x = \"amazing\"\n",
    "def myfunc():\n",
    "    print(\"Python is \" + x)\n",
    "\n",
    "myfunc()"
   ]
  },
  {
   "cell_type": "code",
   "execution_count": 15,
   "id": "86665fad-067a-4455-9666-0976366d56cc",
   "metadata": {},
   "outputs": [
    {
     "name": "stdout",
     "output_type": "stream",
     "text": [
      "python is great\n"
     ]
    }
   ],
   "source": [
    "x = \"awesome\"\n",
    "\n",
    "def myfunc():\n",
    "    x = \"great\"\n",
    "    print(\"python is \" + x)\n",
    "\n",
    "myfunc()"
   ]
  },
  {
   "cell_type": "code",
   "execution_count": 18,
   "id": "6e34d0eb-135b-4533-b321-6fa69759acc2",
   "metadata": {},
   "outputs": [
    {
     "name": "stdout",
     "output_type": "stream",
     "text": [
      "33\n"
     ]
    }
   ],
   "source": [
    "a = 20\n",
    "b = 10\n",
    "c = 6\n",
    "def myfunc():\n",
    "    print(a * b // 6)\n",
    "\n",
    "myfunc()\n"
   ]
  },
  {
   "cell_type": "code",
   "execution_count": 19,
   "id": "91e013e2-9560-4b8e-98b5-97d0abff2ae2",
   "metadata": {},
   "outputs": [
    {
     "name": "stdout",
     "output_type": "stream",
     "text": [
      "40\n",
      "24\n"
     ]
    }
   ],
   "source": [
    "a = 20\n",
    "b = 10\n",
    "c = 6\n",
    "def myfunc():\n",
    "    x = 5\n",
    "    print(a * b // x)\n",
    "\n",
    "myfunc()\n",
    "y = a + b - c\n",
    "print(y)"
   ]
  },
  {
   "cell_type": "code",
   "execution_count": 30,
   "id": "d868d29b-4784-4e55-b261-82c0b89eb076",
   "metadata": {},
   "outputs": [
    {
     "name": "stdout",
     "output_type": "stream",
     "text": [
      "Orange Apple Mango\n"
     ]
    }
   ],
   "source": [
    "\"\"\"Learning python programing language\n",
    "requires regular practice and\n",
    "following of the tutorials in a step\n",
    "by step\"\"\"\n",
    "\n",
    "x = \"Orange\"\n",
    "y = \"Apple\"\n",
    "z = \"Mango\"\n",
    "print(x, y, z)\n"
   ]
  },
  {
   "cell_type": "code",
   "execution_count": 31,
   "id": "a8f77d68-edc2-40da-bea0-51b59dc2070c",
   "metadata": {},
   "outputs": [
    {
     "name": "stdout",
     "output_type": "stream",
     "text": [
      "Orange\n",
      "Apple\n",
      "Mango\n"
     ]
    }
   ],
   "source": [
    "\"\"\"Learning python programing language\n",
    "requires regular practice and\n",
    "following of the tutorials in a step\n",
    "by step\"\"\"\n",
    "\n",
    "x = \"Orange\"\n",
    "y = \"Apple\"\n",
    "z = \"Mango\"\n",
    "print(x)\n",
    "print(y)\n",
    "print(z)\n"
   ]
  },
  {
   "cell_type": "code",
   "execution_count": 35,
   "id": "ea704da4-76e1-434e-ab94-a6abaf766ddf",
   "metadata": {},
   "outputs": [
    {
     "name": "stdout",
     "output_type": "stream",
     "text": [
      "Five is greater than 2\n"
     ]
    }
   ],
   "source": [
    "if 5 > 2:\n",
    "    print(\"Five is greater than 2\")\n",
    "    "
   ]
  },
  {
   "cell_type": "code",
   "execution_count": 51,
   "id": "7ffd399a-e1d2-4840-be15-24198b6bd679",
   "metadata": {},
   "outputs": [
    {
     "name": "stdout",
     "output_type": "stream",
     "text": [
      "a is greater than b!\n",
      "b is less than b!\n"
     ]
    }
   ],
   "source": [
    "if a > b:\n",
    "    print(\"a is greater than b!\")\n",
    "if b < a:\n",
    "        print(\"b is less than b!\")"
   ]
  },
  {
   "cell_type": "code",
   "execution_count": 55,
   "id": "ce67ce19-127a-4b6c-9594-a6e84a7b1535",
   "metadata": {},
   "outputs": [
    {
     "name": "stdout",
     "output_type": "stream",
     "text": [
      "a is more than b!\n",
      "b is less than a\n"
     ]
    }
   ],
   "source": [
    "if a > b:\n",
    "    print(\"a is more than b!\")\n",
    "if b < a:\n",
    "        print(\"b is less than a\")"
   ]
  },
  {
   "cell_type": "code",
   "execution_count": null,
   "id": "d34cfc6c-2836-4fb9-9e4d-d574eb893532",
   "metadata": {},
   "outputs": [],
   "source": []
  }
 ],
 "metadata": {
  "kernelspec": {
   "display_name": "Python 3 (ipykernel)",
   "language": "python",
   "name": "python3"
  },
  "language_info": {
   "codemirror_mode": {
    "name": "ipython",
    "version": 3
   },
   "file_extension": ".py",
   "mimetype": "text/x-python",
   "name": "python",
   "nbconvert_exporter": "python",
   "pygments_lexer": "ipython3",
   "version": "3.11.5"
  }
 },
 "nbformat": 4,
 "nbformat_minor": 5
}
