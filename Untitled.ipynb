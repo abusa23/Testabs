{
 "cells": [
  {
   "cell_type": "code",
   "execution_count": 1,
   "id": "9d7f280d-3245-4f18-a1d5-d8f59aeee273",
   "metadata": {},
   "outputs": [
    {
     "name": "stdout",
     "output_type": "stream",
     "text": [
      "Hello Milliam\n"
     ]
    }
   ],
   "source": [
    "print(\"Hello Milliam\")"
   ]
  },
  {
   "cell_type": "code",
   "execution_count": 2,
   "id": "a8942c4e-99b8-488d-97b3-9310df6b32a0",
   "metadata": {},
   "outputs": [
    {
     "name": "stdout",
     "output_type": "stream",
     "text": [
      "Hello World!\n"
     ]
    }
   ],
   "source": [
    "print(\"Hello World!\")"
   ]
  },
  {
   "cell_type": "code",
   "execution_count": 3,
   "id": "3a359c36-8b61-4953-b6b3-ad07dba783e9",
   "metadata": {},
   "outputs": [
    {
     "data": {
      "text/plain": [
       "8"
      ]
     },
     "execution_count": 3,
     "metadata": {},
     "output_type": "execute_result"
    }
   ],
   "source": [
    "5 + 3 "
   ]
  },
  {
   "cell_type": "code",
   "execution_count": 6,
   "id": "3527e913-e76b-44dd-bace-d4575b98e3b8",
   "metadata": {},
   "outputs": [
    {
     "data": {
      "text/plain": [
       "5.0"
      ]
     },
     "execution_count": 6,
     "metadata": {},
     "output_type": "execute_result"
    }
   ],
   "source": [
    "5 + 3\n",
    "56 / 2\n",
    "45 / 9"
   ]
  },
  {
   "cell_type": "code",
   "execution_count": 7,
   "id": "2278fb33-7630-4dc4-a059-44b9717fe927",
   "metadata": {},
   "outputs": [
    {
     "name": "stdout",
     "output_type": "stream",
     "text": [
      "Hello World\n"
     ]
    }
   ],
   "source": [
    "print(\"Hello World\")\n",
    "#this a greeting"
   ]
  },
  {
   "cell_type": "code",
   "execution_count": 8,
   "id": "dd181e9f-2f90-49ac-adac-75d8f6974721",
   "metadata": {},
   "outputs": [
    {
     "name": "stdout",
     "output_type": "stream",
     "text": [
      "Name of respendonts\n"
     ]
    }
   ],
   "source": [
    "\"\"\"\n",
    "This comments\n",
    "Guide the user\n",
    "in understanding codes\n",
    "\"\"\"\n",
    "print(\"Name of respendonts\")"
   ]
  },
  {
   "cell_type": "code",
   "execution_count": 9,
   "id": "4240d801-ec8c-47d2-8a58-5a1c593c51b6",
   "metadata": {},
   "outputs": [
    {
     "name": "stdout",
     "output_type": "stream",
     "text": [
      "peter\n",
      "4\n"
     ]
    }
   ],
   "source": [
    "x = \"peter\"\n",
    "y = 4\n",
    "print(x)\n",
    "print(y)"
   ]
  },
  {
   "cell_type": "code",
   "execution_count": 10,
   "id": "63bcef2f-c308-4435-8607-ad7fa14732d4",
   "metadata": {},
   "outputs": [
    {
     "name": "stdout",
     "output_type": "stream",
     "text": [
      "Bella\n"
     ]
    }
   ],
   "source": [
    "x = \"John\"\n",
    "x = \"Bella\"\n",
    "print(x)"
   ]
  },
  {
   "cell_type": "code",
   "execution_count": 11,
   "id": "a88a9742-7bcd-4449-9f4a-973a018b9073",
   "metadata": {},
   "outputs": [
    {
     "name": "stdout",
     "output_type": "stream",
     "text": [
      "23\n"
     ]
    }
   ],
   "source": [
    "x = \"Bella\"\n",
    "x = 23\n",
    "print(x)"
   ]
  },
  {
   "cell_type": "code",
   "execution_count": 1,
   "id": "e0496008-1b3f-4833-8660-3969dd32481e",
   "metadata": {},
   "outputs": [
    {
     "name": "stdout",
     "output_type": "stream",
     "text": [
      "python is awesome\n"
     ]
    }
   ],
   "source": [
    "x = \"python\"\n",
    "y = \"is\"\n",
    "z = \"awesome\"\n",
    "print(x, y, z)"
   ]
  },
  {
   "cell_type": "code",
   "execution_count": 3,
   "id": "92b6fb7d-ab30-4419-a9ad-3ba36ed2e20f",
   "metadata": {},
   "outputs": [
    {
     "name": "stdout",
     "output_type": "stream",
     "text": [
      "Milliam\n"
     ]
    }
   ],
   "source": [
    "myvar = \"Milliam\"\n",
    "print(myvar)"
   ]
  },
  {
   "cell_type": "code",
   "execution_count": 4,
   "id": "0acd6e38-70ae-4beb-9741-92e5b58f3823",
   "metadata": {},
   "outputs": [
    {
     "name": "stdout",
     "output_type": "stream",
     "text": [
      "apple\n",
      "pawpaw\n",
      "orange\n"
     ]
    }
   ],
   "source": [
    "x, y, z = \"apple\", \"pawpaw\", \"orange\"\n",
    "print(x)\n",
    "print(y)\n",
    "print(z)"
   ]
  },
  {
   "cell_type": "code",
   "execution_count": 10,
   "id": "b238747b-3c97-4926-94be-fa7a2e587612",
   "metadata": {},
   "outputs": [
    {
     "name": "stdout",
     "output_type": "stream",
     "text": [
      "apple\n"
     ]
    }
   ],
   "source": [
    "x, y, z = (\"apple\", \"pawpaw\", \"orange\")\n",
    "print(x)"
   ]
  },
  {
   "cell_type": "code",
   "execution_count": 11,
   "id": "d5ed6fb4-32af-4f70-ae74-1854c8da95f7",
   "metadata": {},
   "outputs": [
    {
     "name": "stdout",
     "output_type": "stream",
     "text": [
      "abc\n"
     ]
    }
   ],
   "source": [
    "x = 6\n",
    "y = \"abc\"\n",
    "print(y)"
   ]
  },
  {
   "cell_type": "code",
   "execution_count": 13,
   "id": "b3172339-47a0-49c4-98b1-ef63da4aaf53",
   "metadata": {},
   "outputs": [
    {
     "name": "stdout",
     "output_type": "stream",
     "text": [
      "Python is amazing\n"
     ]
    }
   ],
   "source": [
    "x = \"amazing\"\n",
    "def myfunc():\n",
    "    print(\"Python is \" + x)\n",
    "\n",
    "myfunc()"
   ]
  },
  {
   "cell_type": "code",
   "execution_count": 15,
   "id": "86665fad-067a-4455-9666-0976366d56cc",
   "metadata": {},
   "outputs": [
    {
     "name": "stdout",
     "output_type": "stream",
     "text": [
      "python is great\n"
     ]
    }
   ],
   "source": [
    "x = \"awesome\"\n",
    "\n",
    "def myfunc():\n",
    "    x = \"great\"\n",
    "    print(\"python is \" + x)\n",
    "\n",
    "myfunc()"
   ]
  },
  {
   "cell_type": "code",
   "execution_count": 18,
   "id": "6e34d0eb-135b-4533-b321-6fa69759acc2",
   "metadata": {},
   "outputs": [
    {
     "name": "stdout",
     "output_type": "stream",
     "text": [
      "33\n"
     ]
    }
   ],
   "source": [
    "a = 20\n",
    "b = 10\n",
    "c = 6\n",
    "def myfunc():\n",
    "    print(a * b // 6)\n",
    "\n",
    "myfunc()\n"
   ]
  },
  {
   "cell_type": "code",
   "execution_count": 19,
   "id": "91e013e2-9560-4b8e-98b5-97d0abff2ae2",
   "metadata": {},
   "outputs": [
    {
     "name": "stdout",
     "output_type": "stream",
     "text": [
      "40\n",
      "24\n"
     ]
    }
   ],
   "source": [
    "a = 20\n",
    "b = 10\n",
    "c = 6\n",
    "def myfunc():\n",
    "    x = 5\n",
    "    print(a * b // x)\n",
    "\n",
    "myfunc()\n",
    "y = a + b - c\n",
    "print(y)"
   ]
  },
  {
   "cell_type": "code",
   "execution_count": 30,
   "id": "d868d29b-4784-4e55-b261-82c0b89eb076",
   "metadata": {},
   "outputs": [
    {
     "name": "stdout",
     "output_type": "stream",
     "text": [
      "Orange Apple Mango\n"
     ]
    }
   ],
   "source": [
    "\"\"\"Learning python programing language\n",
    "requires regular practice and\n",
    "following of the tutorials in a step\n",
    "by step\"\"\"\n",
    "\n",
    "x = \"Orange\"\n",
    "y = \"Apple\"\n",
    "z = \"Mango\"\n",
    "print(x, y, z)\n"
   ]
  },
  {
   "cell_type": "code",
   "execution_count": 31,
   "id": "a8f77d68-edc2-40da-bea0-51b59dc2070c",
   "metadata": {},
   "outputs": [
    {
     "name": "stdout",
     "output_type": "stream",
     "text": [
      "Orange\n",
      "Apple\n",
      "Mango\n"
     ]
    }
   ],
   "source": [
    "\"\"\"Learning python programing language\n",
    "requires regular practice and\n",
    "following of the tutorials in a step\n",
    "by step\"\"\"\n",
    "\n",
    "x = \"Orange\"\n",
    "y = \"Apple\"\n",
    "z = \"Mango\"\n",
    "print(x)\n",
    "print(y)\n",
    "print(z)\n"
   ]
  },
  {
   "cell_type": "code",
   "execution_count": 35,
   "id": "ea704da4-76e1-434e-ab94-a6abaf766ddf",
   "metadata": {},
   "outputs": [
    {
     "name": "stdout",
     "output_type": "stream",
     "text": [
      "Five is greater than 2\n"
     ]
    }
   ],
   "source": [
    "if 5 > 2:\n",
    "    print(\"Five is greater than 2\")\n",
    "    "
   ]
  },
  {
   "cell_type": "code",
   "execution_count": 51,
   "id": "7ffd399a-e1d2-4840-be15-24198b6bd679",
   "metadata": {},
   "outputs": [
    {
     "name": "stdout",
     "output_type": "stream",
     "text": [
      "a is greater than b!\n",
      "b is less than b!\n"
     ]
    }
   ],
   "source": [
    "if a > b:\n",
    "    print(\"a is greater than b!\")\n",
    "if b < a:\n",
    "        print(\"b is less than b!\")"
   ]
  },
  {
   "cell_type": "code",
   "execution_count": 55,
   "id": "ce67ce19-127a-4b6c-9594-a6e84a7b1535",
   "metadata": {},
   "outputs": [
    {
     "name": "stdout",
     "output_type": "stream",
     "text": [
      "a is more than b!\n",
      "b is less than a\n"
     ]
    }
   ],
   "source": [
    "if a > b:\n",
    "    print(\"a is more than b!\")\n",
    "if b < a:\n",
    "        print(\"b is less than a\")"
   ]
  },
  {
   "cell_type": "code",
   "execution_count": 3,
   "id": "3c3a9f1a-3c2a-4c1f-9252-071dcc550eac",
   "metadata": {},
   "outputs": [
    {
     "name": "stdout",
     "output_type": "stream",
     "text": [
      "('Mike', '36', '4.12')\n"
     ]
    }
   ],
   "source": [
    "x = \"Mike\", \"36\", \"4.12\"\n",
    "print(x)"
   ]
  },
  {
   "cell_type": "code",
   "execution_count": 4,
   "id": "fdd43cef-03df-4dc9-a9a5-fc4f454b2a3e",
   "metadata": {},
   "outputs": [
    {
     "name": "stdout",
     "output_type": "stream",
     "text": [
      "<class 'int'>\n"
     ]
    }
   ],
   "source": [
    "x = 8\n",
    "print(type(x))"
   ]
  },
  {
   "cell_type": "code",
   "execution_count": 5,
   "id": "07104dd9-1d2e-4043-8f5a-5df003cc9d62",
   "metadata": {},
   "outputs": [
    {
     "name": "stdout",
     "output_type": "stream",
     "text": [
      "<class 'str'>\n"
     ]
    }
   ],
   "source": [
    "x = \"Milliam\"\n",
    "print(type(x))"
   ]
  },
  {
   "cell_type": "code",
   "execution_count": 8,
   "id": "b9f8de0a-aa7a-419b-98d2-d7f5c1692cac",
   "metadata": {},
   "outputs": [
    {
     "name": "stdout",
     "output_type": "stream",
     "text": [
      "1j\n",
      "<class 'complex'>\n"
     ]
    }
   ],
   "source": [
    "x = 1j\n",
    "\n",
    "#diplay this:\n",
    "print(x)\n",
    "\n",
    "#reveal data type:\n",
    "print(type(x))"
   ]
  },
  {
   "cell_type": "code",
   "execution_count": 13,
   "id": "c433d837-20ef-40e4-8e09-6201d4a00444",
   "metadata": {},
   "outputs": [
    {
     "name": "stdout",
     "output_type": "stream",
     "text": [
      "50000000000.0\n",
      "6e-08\n",
      "<class 'float'>\n"
     ]
    }
   ],
   "source": [
    "x = 5e10\n",
    "y = 6e-8\n",
    "z = 6e-10\n",
    "print(x)\n",
    "print(y)\n",
    "print(type(z))"
   ]
  },
  {
   "cell_type": "code",
   "execution_count": 17,
   "id": "e0b63a6a-9002-480a-84b1-5fa22d402bf3",
   "metadata": {},
   "outputs": [
    {
     "name": "stdout",
     "output_type": "stream",
     "text": [
      "3.0\n",
      "2\n",
      "(2.25+0j)\n",
      "<class 'float'>\n",
      "<class 'int'>\n",
      "<class 'complex'>\n"
     ]
    }
   ],
   "source": [
    "x = 3 # int\n",
    "y = 2.25 # float\n",
    "z = 3 + 5j # complex\n",
    "\n",
    "#convert x into a float:\n",
    "a = float(x)\n",
    "\n",
    "#covert y into an integer:\n",
    "b = int(y)\n",
    "\n",
    "#convert y into a complex:\n",
    "c = complex(y)\n",
    "\n",
    "print(a)\n",
    "print(b)\n",
    "print(c)\n",
    "\n",
    "print(type(a))\n",
    "print(type(b))\n",
    "print(type(c))\n"
   ]
  },
  {
   "cell_type": "code",
   "execution_count": 26,
   "id": "8aa3ccc4-1b8b-4a6e-b0d0-a795a02b65d6",
   "metadata": {},
   "outputs": [
    {
     "name": "stdout",
     "output_type": "stream",
     "text": [
      "3\n"
     ]
    }
   ],
   "source": [
    "import random\n",
    "print(random.randrange(1,5))"
   ]
  },
  {
   "cell_type": "code",
   "execution_count": 27,
   "id": "683f1cb2-595d-409f-82b3-38be85eb0c85",
   "metadata": {},
   "outputs": [
    {
     "name": "stdout",
     "output_type": "stream",
     "text": [
      "2 3 4\n"
     ]
    }
   ],
   "source": [
    "x = int(2)  # x will be 2\n",
    "y = int(3.25)  # y will be 3\n",
    "z = int(\"4\")  # z will be 4\n",
    "print(x, y, z)"
   ]
  },
  {
   "cell_type": "code",
   "execution_count": 28,
   "id": "f3ca7864-8d8e-4be8-8d6d-212ddd9088af",
   "metadata": {},
   "outputs": [
    {
     "name": "stdout",
     "output_type": "stream",
     "text": [
      "s1 2 2.3\n"
     ]
    }
   ],
   "source": [
    "x = str(\"s1\") # x will be s1\n",
    "y = str(2) # y will 2\n",
    "z = str(2.3) # z will 2.3\n",
    "print(x, y, z)"
   ]
  },
  {
   "cell_type": "code",
   "execution_count": 29,
   "id": "94ab3689-47f6-4850-9e5a-c5c3a95e6e81",
   "metadata": {},
   "outputs": [
    {
     "name": "stdout",
     "output_type": "stream",
     "text": [
      "Lets try,\n",
      "this out and see,\n",
      "the difference\n"
     ]
    }
   ],
   "source": [
    "a = \"\"\"Lets try,\n",
    "this out and see,\n",
    "the difference\"\"\"\n",
    "print(a)"
   ]
  },
  {
   "cell_type": "code",
   "execution_count": 31,
   "id": "ba81eb85-cd3d-46b4-8447-a3848faae892",
   "metadata": {},
   "outputs": [
    {
     "name": "stdout",
     "output_type": "stream",
     "text": [
      "2\n"
     ]
    }
   ],
   "source": [
    "'''Lets try,\n",
    "this out and see,\n",
    "the difference'''\n",
    "print(2)"
   ]
  },
  {
   "cell_type": "code",
   "execution_count": null,
   "id": "2d3d2a16-ac2b-4da7-ba40-1f7625612faa",
   "metadata": {},
   "outputs": [],
   "source": []
  }
 ],
 "metadata": {
  "kernelspec": {
   "display_name": "Python 3 (ipykernel)",
   "language": "python",
   "name": "python3"
  },
  "language_info": {
   "codemirror_mode": {
    "name": "ipython",
    "version": 3
   },
   "file_extension": ".py",
   "mimetype": "text/x-python",
   "name": "python",
   "nbconvert_exporter": "python",
   "pygments_lexer": "ipython3",
   "version": "3.11.5"
  }
 },
 "nbformat": 4,
 "nbformat_minor": 5
}
