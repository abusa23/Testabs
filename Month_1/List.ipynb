{
 "cells": [
  {
   "cell_type": "code",
   "execution_count": 21,
   "id": "c3d33640-d6f4-49a2-82df-72d8a4a3e356",
   "metadata": {},
   "outputs": [
    {
     "name": "stdout",
     "output_type": "stream",
     "text": [
      "0\n",
      "1\n",
      "2\n",
      "3\n",
      "4\n",
      "5\n",
      "6\n",
      "7\n",
      "8\n",
      "9\n",
      "5\n",
      "6\n",
      "7\n",
      "8\n",
      "Pawpaw\n",
      "Orange\n",
      "Ovacado\n"
     ]
    }
   ],
   "source": [
    "# recall\n",
    "for x in range(0, 10):\n",
    "    print(x)\n",
    "    if x == 5:\n",
    "        continue\n",
    "for x in range(5, 10):\n",
    "    print(x)\n",
    "    if x == 8:\n",
    "        break"
   ]
  },
  {
   "cell_type": "code",
   "execution_count": 34,
   "id": "4442598f-ee73-4eb3-8b54-82b784c56469",
   "metadata": {},
   "outputs": [
    {
     "name": "stdout",
     "output_type": "stream",
     "text": [
      "Pawpaw\n",
      "Orange\n",
      "Ovacado\n",
      "Pawpaw\n",
      "Orange\n",
      "Ovacado\n",
      "Pineapple\n"
     ]
    }
   ],
   "source": [
    "list1 = [\"Pawpaw\", \"Orange\", \"Ovacado\", \"Pineapple\"]\n",
    "list2 = [\"Apple\", \"Berry\", \"Grapes\", \"Kiwi\"]\n",
    "for x in list1:\n",
    "    print(x)\n",
    "    if x == \"Ovacado\":\n",
    "        break\n",
    "# Terminating loop at [1]\n",
    "for x in list1:\n",
    "    break\n",
    "    if x == \"Orange\":\n",
    "        print(x)\n",
    "# Continuing with loop after [1]\n",
    "for x in list1:\n",
    "    print(x)\n",
    "    if x == \"Ovacado\":\n",
    "        continue"
   ]
  },
  {
   "cell_type": "code",
   "execution_count": 92,
   "id": "89908b34-6aaa-4fd5-9218-2b4891ef2f89",
   "metadata": {},
   "outputs": [
    {
     "name": "stdout",
     "output_type": "stream",
     "text": [
      "1\n",
      "Kiwi\n",
      "['Pawpaw', 'Orange', 'Berry', 'Ovacado', 'Pineapple', 'Apple', 'Berry', 'Grapes', 'Kiwi']\n",
      "['Apple', 'Berry', 'Grapes', 'Kiwi', 'Pawpaw', 'Orange', 'Berry', 'Ovacado', 'Pineapple', 'Apple', 'Berry', 'Grapes', 'Kiwi']\n",
      "['Apple', 'Berry', 'Grapes', 'Pawpaw', 'Orange', 'Berry', 'Ovacado', 'Pineapple', 'Apple', 'Berry', 'Grapes', 'Kiwi']\n",
      "['Apple', 'Berry', 'Grapes', 'Pawpaw', 'Orange', 'Berry', 'Pineapple', 'Apple', 'Berry', 'Grapes', 'Kiwi']\n",
      "[]\n"
     ]
    }
   ],
   "source": [
    "list1 = [\"Pawpaw\", \"Orange\", \"Ovacado\", \"Pineapple\"]\n",
    "list2 = [\"Apple\", \"Berry\", \"Grapes\", \"Kiwi\"]\n",
    "list1.extend(list2)\n",
    "print(1)\n",
    "# list2.append(list1)\n",
    "print(x)\n",
    "list1.insert(2, \"Berry\")\n",
    "print(list1)\n",
    "list2.extend(list1)\n",
    "print(list2)\n",
    "list2.remove(\"Kiwi\")\n",
    "print(list2)\n",
    "del list2[6]\n",
    "print(list2)\n",
    "list2.clear()\n",
    "print(list2)"
   ]
  },
  {
   "cell_type": "code",
   "execution_count": 91,
   "id": "de47abfb-24bb-48c4-822c-e954d52ea581",
   "metadata": {},
   "outputs": [
    {
     "name": "stdout",
     "output_type": "stream",
     "text": [
      "[]\n"
     ]
    }
   ],
   "source": [
    "list1 = [\"Pawpaw\", \"Orange\", \"Ovacado\", \"Pineapple\"]\n",
    "list2 = [\"Apple\", \"Berry\", \"Grapes\", \"Kiwi\"]\n"
   ]
  },
  {
   "cell_type": "code",
   "execution_count": 1,
   "id": "b4fab52b-f5d0-4339-9bfd-307f2e0ab8c0",
   "metadata": {},
   "outputs": [
    {
     "name": "stdout",
     "output_type": "stream",
     "text": [
      "We are the so-called \"Vikings\" from the north.\n"
     ]
    }
   ],
   "source": [
    "txt = \"We are the so-called \\\"Vikings\\\" from the north.\"\n",
    "print(txt)"
   ]
  },
  {
   "cell_type": "code",
   "execution_count": 3,
   "id": "33ba2027-7175-4fa4-a9e1-a33c978bcaf2",
   "metadata": {},
   "outputs": [
    {
     "name": "stdout",
     "output_type": "stream",
     "text": [
      "apple\n",
      "banana\n",
      "cherry\n",
      "Pawpaw\n",
      "Orange\n",
      "Berry\n",
      "Ovacado\n",
      "Pineapple\n",
      "Apple\n",
      "Berry\n",
      "Grapes\n",
      "Kiwi\n"
     ]
    }
   ],
   "source": [
    "thislist = [\"apple\", \"banana\", \"cherry\", 'Pawpaw', 'Orange', 'Berry', 'Ovacado', 'Pineapple', 'Apple', 'Berry', 'Grapes', 'Kiwi']\n",
    "i = 0\n",
    "while i < len(thislist):\n",
    "  print(thislist[i])\n",
    "  i = i + 1"
   ]
  },
  {
   "cell_type": "code",
   "execution_count": 23,
   "id": "a1b2ebbd-a539-4d9c-954e-7bd44e3982d3",
   "metadata": {},
   "outputs": [],
   "source": [
    "thislist = [\"apple\", \"banana\", \"cherry\", 'Pawpaw', 'Orange', 'Berry', 'Ovacado', 'Pineapple', 'Apple', 'Berry', 'Grapes', 'Kiwi']\n",
    "if x in thislist:\n",
    "    del thislist[2]\n",
    "    "
   ]
  },
  {
   "cell_type": "code",
   "execution_count": 27,
   "id": "0620ba9a-715e-403c-b69b-f8ab9e3cf97a",
   "metadata": {},
   "outputs": [
    {
     "name": "stdout",
     "output_type": "stream",
     "text": [
      "['apple']\n",
      "['apple', 'banana']\n",
      "['apple', 'banana', 'mango']\n"
     ]
    }
   ],
   "source": [
    "fruits = [\"apple\", \"banana\", \"cherry\", \"kiwi\", \"mango\"]\n",
    "newlist = []\n",
    "for x in fruits:\n",
    "    if \"a\" in x:\n",
    "        newlist.append(x)\n",
    "        print(newlist[0:3])"
   ]
  },
  {
   "cell_type": "code",
   "execution_count": 80,
   "id": "3913a623-dfbe-48cc-90be-fe5eeab1a18f",
   "metadata": {},
   "outputs": [
    {
     "name": "stdout",
     "output_type": "stream",
     "text": [
      "['banana', 'cherry', 'kiwi', 'mango']\n",
      "['Apple', 'Banana', 'Cherry', 'Kiwi', 'Mango']\n"
     ]
    }
   ],
   "source": [
    "fruits = [\"apple\", \"banana\", \"cherry\", \"kiwi\", \"mango\"]\n",
    "newlist = [x for x in fruits if x != \"apple\"]\n",
    "print(newlist)\n",
    "newlist = [x.capitalize() for x in fruits]\n",
    "print(newlist)"
   ]
  },
  {
   "cell_type": "code",
   "execution_count": 98,
   "id": "de0e3d96-225f-4ebd-8a48-798a6e47291b",
   "metadata": {},
   "outputs": [
    {
     "name": "stdout",
     "output_type": "stream",
     "text": [
      "None\n"
     ]
    }
   ],
   "source": [
    "list = [x for x in range(101) if x <= 50] # this halps to generate numbers between from 0 to 100\n",
    "print(list)"
   ]
  },
  {
   "cell_type": "code",
   "execution_count": 96,
   "id": "a8b3f201-3552-44b8-9eb4-5ac32e01d251",
   "metadata": {},
   "outputs": [
    {
     "name": "stdout",
     "output_type": "stream",
     "text": [
      "['apple', 'orange', 'cherry', 'kiwi', 'mango']\n",
      "['apple', 'cherry', 'kiwi', 'mango', 'orange']\n",
      "['orange', 'mango', 'kiwi', 'cherry', 'apple']\n"
     ]
    }
   ],
   "source": [
    "fruits = [\"apple\", \"banana\", \"cherry\", \"kiwi\", \"mango\"]\n",
    "list3 = [x if x != \"banana\" else \"orange\" for x in fruits]\n",
    "print(list3)\n",
    "list3.sort()\n",
    "print(list3)\n",
    "list3.sort(reverse = True)\n",
    "print(list3)"
   ]
  },
  {
   "cell_type": "code",
   "execution_count": 104,
   "id": "fb74ff54-65a5-4b6d-a871-e781744b1e98",
   "metadata": {},
   "outputs": [
    {
     "name": "stdout",
     "output_type": "stream",
     "text": [
      "['apple', 'cherry', 'kiwi', 'mango', 'berry']\n"
     ]
    }
   ],
   "source": [
    "fruits = [\"apple\", \"banana\", \"cherry\", \"kiwi\", \"mango\"]\n",
    "newlist = fruits.copy()\n",
    "del newlist[1]\n",
    "newlist.append(\"berry\")\n",
    "print(newlist)"
   ]
  },
  {
   "cell_type": "code",
   "execution_count": 114,
   "id": "6e6e4701-96b6-4f45-ae92-5cbd03472509",
   "metadata": {},
   "outputs": [
    {
     "name": "stdout",
     "output_type": "stream",
     "text": [
      "['apple', 'banana', 'cherry']\n"
     ]
    }
   ],
   "source": [
    "thislist = [\"apple\", \"banana\", \"cherry\"]\n",
    "mylist = thislist.copy()\n",
    "print(thislist)"
   ]
  },
  {
   "cell_type": "code",
   "execution_count": 115,
   "id": "bb17987c-a489-4ef4-8de1-b348f92c1487",
   "metadata": {},
   "outputs": [
    {
     "name": "stdout",
     "output_type": "stream",
     "text": [
      "['apple', 'banana', 'cherry', 1, 2, 4, 5]\n"
     ]
    }
   ],
   "source": [
    "thislist = [\"apple\", \"banana\", \"cherry\"]\n",
    "mylist = [1, 2, 4, 5]\n",
    "newlist = thislist + mylist\n",
    "print(newlist)"
   ]
  },
  {
   "cell_type": "code",
   "execution_count": 116,
   "id": "c82efadf-c762-4ac1-81e2-763d6d58cbd9",
   "metadata": {},
   "outputs": [
    {
     "name": "stdout",
     "output_type": "stream",
     "text": [
      "('apple', 'banana', 'cherry')\n"
     ]
    }
   ],
   "source": [
    "thistuple = (\"apple\", \"banana\", \"cherry\")\n",
    "print(thistuple)"
   ]
  },
  {
   "cell_type": "code",
   "execution_count": 120,
   "id": "7ef8b0eb-28e2-4b87-b114-34fceaffd26a",
   "metadata": {},
   "outputs": [
    {
     "name": "stdout",
     "output_type": "stream",
     "text": [
      "apple\n",
      "banana\n",
      "['cherry', 'strawberry', 'raspberry']\n"
     ]
    }
   ],
   "source": [
    "fruits = (\"apple\", \"banana\", \"cherry\", \"strawberry\", \"raspberry\")\n",
    "\n",
    "(green, yellow, *red) = fruits\n",
    "\n",
    "print(green)\n",
    "print(yellow)\n",
    "print(red)"
   ]
  },
  {
   "cell_type": "code",
   "execution_count": 121,
   "id": "9d70bd5f-7562-437e-ac81-810b5535a4a1",
   "metadata": {},
   "outputs": [
    {
     "name": "stdout",
     "output_type": "stream",
     "text": [
      "apple\n",
      "['mango', 'papaya', 'pineapple']\n",
      "cherry\n"
     ]
    }
   ],
   "source": [
    "fruits = (\"apple\", \"mango\", \"papaya\", \"pineapple\", \"cherry\")\n",
    "\n",
    "(green, *tropic, red) = fruits\n",
    "\n",
    "print(green)\n",
    "print(tropic)\n",
    "print(red)"
   ]
  },
  {
   "cell_type": "code",
   "execution_count": 122,
   "id": "75ad6090-8b93-47d5-bf12-3239b4e76a2f",
   "metadata": {},
   "outputs": [
    {
     "name": "stdout",
     "output_type": "stream",
     "text": [
      "{True, 2, 'apple', 'cherry', 'banana'}\n"
     ]
    }
   ],
   "source": [
    "thisset = {\"apple\", \"banana\", \"cherry\", True, 1, 2}\n",
    "\n",
    "print(thisset)"
   ]
  },
  {
   "cell_type": "code",
   "execution_count": 123,
   "id": "92c986b0-63da-45ed-b26c-0895fb9e1f64",
   "metadata": {},
   "outputs": [
    {
     "name": "stdout",
     "output_type": "stream",
     "text": [
      "{'apple', 'cherry', 'banana'}\n"
     ]
    }
   ],
   "source": [
    "thisset = set((\"apple\", \"banana\", \"cherry\")) # note the double round-brackets\n",
    "print(thisset)"
   ]
  },
  {
   "cell_type": "code",
   "execution_count": 133,
   "id": "3e0ff412-2c29-45e4-a2ba-697ff1952930",
   "metadata": {},
   "outputs": [
    {
     "name": "stdout",
     "output_type": "stream",
     "text": [
      "Ford\n"
     ]
    }
   ],
   "source": [
    "thisdict = {\n",
    "  \"brand\": \"Ford\",\n",
    "  \"model\": \"Mustang\",\n",
    "  \"year\": 1964\n",
    "}\n",
    "print(thisdict[\"brand\"])"
   ]
  },
  {
   "cell_type": "code",
   "execution_count": 134,
   "id": "4d13cef5-5142-4e2a-98e2-ae71d7cdf5b0",
   "metadata": {},
   "outputs": [
    {
     "name": "stdout",
     "output_type": "stream",
     "text": [
      "{'brand': 'Ford', 'model': 'Mustang', 'year': 2020}\n"
     ]
    }
   ],
   "source": [
    "thisdict = {\n",
    "  \"brand\": \"Ford\",\n",
    "  \"model\": \"Mustang\",\n",
    "  \"year\": 1964,\n",
    "  \"year\": 2020\n",
    "}\n",
    "print(thisdict)"
   ]
  },
  {
   "cell_type": "code",
   "execution_count": 135,
   "id": "1d0e8391-8833-4131-a1dd-ec87234064ee",
   "metadata": {},
   "outputs": [
    {
     "name": "stdout",
     "output_type": "stream",
     "text": [
      "{'brand': 'Ford', 'model': 'Mustang', 'year': 2020}\n"
     ]
    }
   ],
   "source": [
    "thisdict = {\n",
    "  \"brand\": \"Ford\",\n",
    "  \"model\": \"Mustang\",\n",
    "  \"year\": 1964,\n",
    "  \"year\": 2020\n",
    "}\n",
    "print(thisdict)"
   ]
  },
  {
   "cell_type": "code",
   "execution_count": 137,
   "id": "bf05af87-58e1-4f46-a931-c483472536a4",
   "metadata": {},
   "outputs": [
    {
     "name": "stdout",
     "output_type": "stream",
     "text": [
      "dict_keys(['brand', 'model', 'year'])\n",
      "dict_keys(['brand', 'model', 'year', 'color'])\n"
     ]
    }
   ],
   "source": [
    "car = {\n",
    "\"brand\": \"Ford\",\n",
    "\"model\": \"Mustang\",\n",
    "\"year\": 1964\n",
    "}\n",
    "\n",
    "x = car.keys()\n",
    "\n",
    "print(x)\n",
    "\n",
    "car[\"color\"] = \"White\"\n",
    "\n",
    "print(x)"
   ]
  },
  {
   "cell_type": "code",
   "execution_count": 139,
   "id": "67d471c6-f403-45cc-b289-e990ca18e3e3",
   "metadata": {},
   "outputs": [
    {
     "name": "stdout",
     "output_type": "stream",
     "text": [
      "dict_values(['Ford', 'Mustang', 1964])\n",
      "dict_values(['Ford', 'Mustang', 1964, 2000])\n"
     ]
    }
   ],
   "source": [
    "car = {\n",
    "\"brand\": \"Ford\",\n",
    "\"model\": \"Mustang\",\n",
    "\"year\": 1964\n",
    "}\n",
    "x = car.values()\n",
    "print(x)\n",
    "\n",
    "car[\"Make\"] = 2000\n",
    "x = car.values()\n",
    "print(x)"
   ]
  },
  {
   "cell_type": "code",
   "execution_count": 141,
   "id": "469930a5-3e2c-46e1-ae6e-d8f236f29060",
   "metadata": {},
   "outputs": [
    {
     "name": "stdout",
     "output_type": "stream",
     "text": [
      "dict_items([('brand', 'Ford'), ('model', 'Mustang'), ('year', 1964)])\n",
      "dict_values(['Ford', 'Mustang', 1964, 2000])\n"
     ]
    }
   ],
   "source": [
    "car = {\n",
    "\"brand\": \"Ford\",\n",
    "\"model\": \"Mustang\",\n",
    "\"year\": 1964\n",
    "}\n",
    "x = car.items()\n",
    "print(x)\n",
    "\n",
    "car[\"Make\"] = 2000\n",
    "x = car.values()\n",
    "print(x)"
   ]
  },
  {
   "cell_type": "code",
   "execution_count": null,
   "id": "c94a1801-ae2d-453f-9868-da80193413dd",
   "metadata": {},
   "outputs": [],
   "source": []
  }
 ],
 "metadata": {
  "kernelspec": {
   "display_name": "Python 3 (ipykernel)",
   "language": "python",
   "name": "python3"
  },
  "language_info": {
   "codemirror_mode": {
    "name": "ipython",
    "version": 3
   },
   "file_extension": ".py",
   "mimetype": "text/x-python",
   "name": "python",
   "nbconvert_exporter": "python",
   "pygments_lexer": "ipython3",
   "version": "3.11.5"
  }
 },
 "nbformat": 4,
 "nbformat_minor": 5
}
