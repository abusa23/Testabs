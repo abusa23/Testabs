{
 "cells": [
  {
   "cell_type": "code",
   "execution_count": 4,
   "id": "2fa6deae-9138-4263-be49-f3692d470015",
   "metadata": {},
   "outputs": [
    {
     "name": "stdout",
     "output_type": "stream",
     "text": [
      "Seven is greater than four\n"
     ]
    }
   ],
   "source": [
    "if 7 > 4:\n",
    "    print(\"Seven is greater than four\")"
   ]
  },
  {
   "cell_type": "code",
   "execution_count": 2,
   "id": "b7743348-8764-4375-b893-d0797136f57a",
   "metadata": {},
   "outputs": [
    {
     "name": "stdout",
     "output_type": "stream",
     "text": [
      "<class 'str'>\n"
     ]
    }
   ],
   "source": [
    "x = str(\"Hello world!\")\n",
    "print(type(x))"
   ]
  },
  {
   "cell_type": "code",
   "execution_count": 6,
   "id": "efa5b450-bd10-413a-8ba0-84d3c705432e",
   "metadata": {},
   "outputs": [
    {
     "name": "stdout",
     "output_type": "stream",
     "text": [
      "{'name': 'Mike', 'age': 35}\n"
     ]
    }
   ],
   "source": [
    "x = dict(name=\"Mike\", age=35)\n",
    "print(x)"
   ]
  },
  {
   "cell_type": "code",
   "execution_count": 9,
   "id": "7649de04-707b-4cb7-9983-ee50d5968cd6",
   "metadata": {},
   "outputs": [
    {
     "name": "stdout",
     "output_type": "stream",
     "text": [
      "<class 'tuple'>\n"
     ]
    }
   ],
   "source": [
    "x = (\"orange\", \"apple\")\n",
    "print(type(x))"
   ]
  },
  {
   "cell_type": "code",
   "execution_count": 10,
   "id": "bf061a9d-7b94-45e9-9ceb-b46d5eec4e2c",
   "metadata": {},
   "outputs": [
    {
     "name": "stdout",
     "output_type": "stream",
     "text": [
      "<class 'list'>\n"
     ]
    }
   ],
   "source": [
    "x = ([\"orange\", \"apple\"])\n",
    "print(type(x))"
   ]
  },
  {
   "cell_type": "code",
   "execution_count": 11,
   "id": "b3d61e6c-5456-4b01-8fe1-df0c9b8a52c3",
   "metadata": {},
   "outputs": [
    {
     "name": "stdout",
     "output_type": "stream",
     "text": [
      "<class 'set'>\n"
     ]
    }
   ],
   "source": [
    "x = {\"orange\", \"apple\"}\n",
    "print(type(x))"
   ]
  },
  {
   "cell_type": "code",
   "execution_count": 14,
   "id": "00f05bc4-ef36-46b2-9d8b-a07709d696d9",
   "metadata": {},
   "outputs": [
    {
     "name": "stdout",
     "output_type": "stream",
     "text": [
      "<class 'list'>\n"
     ]
    }
   ],
   "source": [
    "x = [{\"orange\", \"apple\"}]\n",
    "print(type(x))"
   ]
  },
  {
   "cell_type": "code",
   "execution_count": 2,
   "id": "ff90ad26-ff6c-4e15-990b-9fc96fcfc833",
   "metadata": {},
   "outputs": [
    {
     "name": "stdout",
     "output_type": "stream",
     "text": [
      "<class 'frozenset'>\n"
     ]
    }
   ],
   "source": [
    "x = frozenset({\"apple\", \"banana\", \"cherry\"})\n",
    "print(type(x))"
   ]
  },
  {
   "cell_type": "code",
   "execution_count": 16,
   "id": "cd478354-8044-4794-94f6-1e0e7b0f3c33",
   "metadata": {},
   "outputs": [
    {
     "name": "stdout",
     "output_type": "stream",
     "text": [
      "9.647634584013051\n",
      "51.04563458401306\n",
      "0.028942903752039156\n",
      "570.8505383360523\n",
      "8.841428841428842\n",
      "1.1580515394746296\n",
      "-68.4606437580053\n",
      "19723.333333333332\n"
     ]
    }
   ],
   "source": [
    "a = 0.003\n",
    "b = 59.14\n",
    "c = 5.291\n",
    "d = 6.13\n",
    "e = 59.17\n",
    "f = 46.78\n",
    "r = b / d\n",
    "t = r * c\n",
    "u = f * r\n",
    "x = a * (r)\n",
    "y = e * (r)\n",
    "print(r)\n",
    "print(t)\n",
    "print(x)\n",
    "print(y)\n",
    "print(u / t)\n",
    "print((b - a * u / t) / t)\n",
    "print(a * (u / t) - b *((b - a * u / t) / t)) \n",
    "print(e / a)\n"
   ]
  },
  {
   "cell_type": "code",
   "execution_count": 17,
   "id": "383a5058-d2d3-43cf-b237-b3dc44539988",
   "metadata": {},
   "outputs": [
    {
     "name": "stdout",
     "output_type": "stream",
     "text": [
      "59.14\n"
     ]
    }
   ],
   "source": [
    "a = 0.003\n",
    "b = 59.14\n",
    "c = 5.291\n",
    "d = 6.13\n",
    "e = 59.17\n",
    "f = 46.78\n",
    "r = b / d\n",
    "t = r * c\n",
    "u = f * r\n",
    "x = a * (r)\n",
    "y = e * (r)\n",
    "print(r * d)"
   ]
  },
  {
   "cell_type": "code",
   "execution_count": 1,
   "id": "4279fe43-b16e-4ceb-afd9-45e89d43e530",
   "metadata": {},
   "outputs": [
    {
     "name": "stdout",
     "output_type": "stream",
     "text": [
      "Banana\n",
      "Apple\n",
      "Orange\n"
     ]
    }
   ],
   "source": [
    "fruits = [\"Banana\", \"Apple\", \"Orange\"]\n",
    "for x in fruits:\n",
    "    print(x)"
   ]
  },
  {
   "cell_type": "code",
   "execution_count": 2,
   "id": "e7c53a71-f838-415f-8304-919d17d65a69",
   "metadata": {},
   "outputs": [
    {
     "name": "stdout",
     "output_type": "stream",
     "text": [
      "17\n"
     ]
    }
   ],
   "source": [
    "a = \"Hard work, labour\"\n",
    "print(len(a))"
   ]
  },
  {
   "cell_type": "code",
   "execution_count": 4,
   "id": "f4925942-e9c6-496d-b855-408980479d00",
   "metadata": {},
   "outputs": [
    {
     "name": "stdout",
     "output_type": "stream",
     "text": [
      "True\n"
     ]
    }
   ],
   "source": [
    "txt = \"My name is Peter, Kari kuwe\"\n",
    "print(\"Kari\" in txt)"
   ]
  },
  {
   "cell_type": "code",
   "execution_count": 6,
   "id": "aaf9c022-fe50-4d9e-ac56-37d18cdc3f53",
   "metadata": {},
   "outputs": [
    {
     "name": "stdout",
     "output_type": "stream",
     "text": [
      "Yes, Name is required\n"
     ]
    }
   ],
   "source": [
    "txt = \"My name is Peter, Kari kuwe\"\n",
    "if \"Kari\" in txt: \n",
    "    print(\"Yes, Name is required\")"
   ]
  },
  {
   "cell_type": "code",
   "execution_count": 10,
   "id": "6d48e0ca-93f3-4d47-8356-2a1c66b467fd",
   "metadata": {},
   "outputs": [
    {
     "name": "stdout",
     "output_type": "stream",
     "text": [
      "Yes, Milliam is absent\n"
     ]
    }
   ],
   "source": [
    "txt = \"My name is Peter, Kari kuwe\"\n",
    "if \"Milliam\" not in txt: \n",
    "    print(\"Yes, Milliam is absent\")"
   ]
  },
  {
   "cell_type": "code",
   "execution_count": 15,
   "id": "e892cde5-43fa-49fa-9227-fa4309e705c9",
   "metadata": {},
   "outputs": [
    {
     "name": "stdout",
     "output_type": "stream",
     "text": [
      "ll\n"
     ]
    }
   ],
   "source": [
    "b = \"Helloao, World!\"\n",
    "print(b[2:4])"
   ]
  },
  {
   "cell_type": "code",
   "execution_count": 16,
   "id": "559bb77b-3d95-4eca-a8fa-0fc3de608e42",
   "metadata": {},
   "outputs": [
    {
     "name": "stdout",
     "output_type": "stream",
     "text": [
      "Hello\n"
     ]
    }
   ],
   "source": [
    "b = \"Hello, World!\"\n",
    "print(b[:5])"
   ]
  },
  {
   "cell_type": "code",
   "execution_count": 2,
   "id": "3073c5cb-f2f2-41ac-9082-b66d62c7511b",
   "metadata": {},
   "outputs": [
    {
     "name": "stdout",
     "output_type": "stream",
     "text": [
      "llo, World!\n"
     ]
    }
   ],
   "source": [
    "b = \"Hello, World!\"\n",
    "print(b[2:])"
   ]
  },
  {
   "cell_type": "code",
   "execution_count": 3,
   "id": "10d6520c-2ff3-4cce-ac4f-79c338030e9f",
   "metadata": {},
   "outputs": [
    {
     "name": "stdout",
     "output_type": "stream",
     "text": [
      "orl\n"
     ]
    }
   ],
   "source": [
    "b = \"Hello, World!\"\n",
    "print(b[-5:-2])"
   ]
  },
  {
   "cell_type": "code",
   "execution_count": 4,
   "id": "834fe1bf-ec03-4e65-b91b-b7e58b49cd75",
   "metadata": {},
   "outputs": [
    {
     "name": "stdout",
     "output_type": "stream",
     "text": [
      "HELLO, WORLD!\n"
     ]
    }
   ],
   "source": [
    "a = \"Hello, World!\"\n",
    "print(a.upper())"
   ]
  },
  {
   "cell_type": "code",
   "execution_count": 5,
   "id": "b498a766-cc17-4031-ae51-b17b1e0d18ef",
   "metadata": {},
   "outputs": [
    {
     "name": "stdout",
     "output_type": "stream",
     "text": [
      "hello, world!\n"
     ]
    }
   ],
   "source": [
    "a = \"Hello, World!\"\n",
    "print(a.lower())"
   ]
  },
  {
   "cell_type": "code",
   "execution_count": 6,
   "id": "2e919b09-442d-43ea-a809-93c4e84358df",
   "metadata": {},
   "outputs": [
    {
     "name": "stdout",
     "output_type": "stream",
     "text": [
      "Hello, World!\n"
     ]
    }
   ],
   "source": [
    "a = \" Hello, World! \"\n",
    "print(a.strip()) # returns \"Hello, World!\""
   ]
  },
  {
   "cell_type": "code",
   "execution_count": 7,
   "id": "28a88ce9-eae4-41ee-8402-ca6104ec4dea",
   "metadata": {},
   "outputs": [
    {
     "name": "stdout",
     "output_type": "stream",
     "text": [
      "Yillow, World!\n"
     ]
    }
   ],
   "source": [
    "a = \"Yellow, World!\"\n",
    "print(a.replace(\"e\", \"i\"))"
   ]
  },
  {
   "cell_type": "code",
   "execution_count": 8,
   "id": "1b112931-b4dc-4c2d-a281-61da5729be6b",
   "metadata": {},
   "outputs": [
    {
     "name": "stdout",
     "output_type": "stream",
     "text": [
      "['Hello', ' World!']\n"
     ]
    }
   ],
   "source": [
    "a = \"Hello, World!\"\n",
    "print(a.split(\",\")) # returns ['Hello', ' World!']"
   ]
  },
  {
   "cell_type": "code",
   "execution_count": 11,
   "id": "a0bf4fff-5c82-45f6-b30f-9528c3ceedcd",
   "metadata": {},
   "outputs": [
    {
     "name": "stdout",
     "output_type": "stream",
     "text": [
      "['Mosquito', 'bites,', 'Stagnant', 'water,', 'Sleeping', 'under', 'untreated', 'mosquito', 'net']\n"
     ]
    }
   ],
   "source": [
    "a = \"Mosquito bites, Stagnant water, Sleeping under untreated mosquito net\"\n",
    "print(a.split(\" \"))"
   ]
  },
  {
   "cell_type": "code",
   "execution_count": 18,
   "id": "50e5bbf3-693d-41a8-860d-ef07241e3395",
   "metadata": {},
   "outputs": [
    {
     "name": "stdout",
     "output_type": "stream",
     "text": [
      "Greatness requires hard work\n"
     ]
    }
   ],
   "source": [
    "a = \"Greatness requires\"\n",
    "b = \" hard work\"\n",
    "c = a + b\n",
    "print(c)"
   ]
  },
  {
   "cell_type": "code",
   "execution_count": 16,
   "id": "714250e7-1d3d-4abf-b5b6-51839c89ae49",
   "metadata": {},
   "outputs": [
    {
     "name": "stdout",
     "output_type": "stream",
     "text": [
      "Hello World\n"
     ]
    }
   ],
   "source": [
    "a = \"Hello\"\n",
    "b = \"World\"\n",
    "c = a + \" \" + b\n",
    "print(c)"
   ]
  },
  {
   "cell_type": "code",
   "execution_count": 22,
   "id": "07232862-f15e-42b9-a5b6-1864834e5bdb",
   "metadata": {},
   "outputs": [
    {
     "name": "stdout",
     "output_type": "stream",
     "text": [
      "Millian is 25 years old\n"
     ]
    }
   ],
   "source": [
    "age = 25\n",
    "txt = \"Millian is {} years old\"\n",
    "print(txt.format(age))"
   ]
  },
  {
   "cell_type": "code",
   "execution_count": 29,
   "id": "18d76243-4a92-4e14-9ff2-5629b2bafa94",
   "metadata": {},
   "outputs": [
    {
     "name": "stdout",
     "output_type": "stream",
     "text": [
      "I want 3 pieces of item 567 for 49.95 dollars.\n",
      "Amani is my second born age 4 Madiba is the first born age 9 and phoebe is the last born age 3\n"
     ]
    }
   ],
   "source": [
    "quantity = 3\n",
    "itemno = 567\n",
    "price = 49.95\n",
    "myorder = \"I want {} pieces of item {} for {} dollars.\"\n",
    "print(myorder.format(quantity, itemno, price))\n",
    "\n",
    "# this is a test of the format() \n",
    "amani = 4\n",
    "madiba = 9\n",
    "phoebe = 3\n",
    "myorder = \"Amani is my second born age {0} Madiba is the first born age {1} and phoebe is the last born age {2}\"\n",
    "print(myorder.format(amani, madiba, phoebe))"
   ]
  },
  {
   "cell_type": "code",
   "execution_count": 24,
   "id": "f1deda61-c4f5-49e8-bd57-14ccdb75baaf",
   "metadata": {},
   "outputs": [
    {
     "name": "stdout",
     "output_type": "stream",
     "text": [
      "I want to pay 49.95 dollars for 3 pieces of item 567.\n"
     ]
    }
   ],
   "source": [
    "quantity = 3\n",
    "itemno = 567\n",
    "price = 49.95\n",
    "myorder = \"I want to pay {2} dollars for {0} pieces of item {1}.\"\n",
    "print(myorder.format(quantity, itemno, price))\n"
   ]
  },
  {
   "cell_type": "code",
   "execution_count": 34,
   "id": "4b23810a-eccd-4ef6-bc58-33c6f0dedd04",
   "metadata": {},
   "outputs": [
    {
     "name": "stdout",
     "output_type": "stream",
     "text": [
      "It is true\n"
     ]
    }
   ],
   "source": [
    "if 5 > 2:\n",
    "    print(\"It is true\")"
   ]
  },
  {
   "cell_type": "code",
   "execution_count": 36,
   "id": "8d3ecfb2-2962-4838-9c1b-7877aba30ea6",
   "metadata": {},
   "outputs": [
    {
     "name": "stdout",
     "output_type": "stream",
     "text": [
      "Madiba is a brilliant boy he is in primary\n"
     ]
    }
   ],
   "source": [
    "a = \"Madiba is a brilliant boy\"\n",
    "b = \"he is in primary\"\n",
    "c = 4\n",
    "age = 16\n",
    "d = a + \" \" + b + {2}\n",
    "print(d)"
   ]
  },
  {
   "cell_type": "code",
   "execution_count": null,
   "id": "0f50340c-c4d1-478c-bf1c-f5aa783cd416",
   "metadata": {},
   "outputs": [],
   "source": []
  }
 ],
 "metadata": {
  "kernelspec": {
   "display_name": "Python 3 (ipykernel)",
   "language": "python",
   "name": "python3"
  },
  "language_info": {
   "codemirror_mode": {
    "name": "ipython",
    "version": 3
   },
   "file_extension": ".py",
   "mimetype": "text/x-python",
   "name": "python",
   "nbconvert_exporter": "python",
   "pygments_lexer": "ipython3",
   "version": "3.11.5"
  }
 },
 "nbformat": 4,
 "nbformat_minor": 5
}
