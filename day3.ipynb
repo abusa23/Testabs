{
 "cells": [
  {
   "cell_type": "code",
   "execution_count": 4,
   "id": "2fa6deae-9138-4263-be49-f3692d470015",
   "metadata": {},
   "outputs": [
    {
     "name": "stdout",
     "output_type": "stream",
     "text": [
      "Seven is greater than four\n"
     ]
    }
   ],
   "source": [
    "if 7 > 4:\n",
    "    print(\"Seven is greater than four\")"
   ]
  },
  {
   "cell_type": "code",
   "execution_count": 2,
   "id": "b7743348-8764-4375-b893-d0797136f57a",
   "metadata": {},
   "outputs": [
    {
     "name": "stdout",
     "output_type": "stream",
     "text": [
      "<class 'str'>\n"
     ]
    }
   ],
   "source": [
    "x = str(\"Hello world!\")\n",
    "print(type(x))"
   ]
  },
  {
   "cell_type": "code",
   "execution_count": 6,
   "id": "efa5b450-bd10-413a-8ba0-84d3c705432e",
   "metadata": {},
   "outputs": [
    {
     "name": "stdout",
     "output_type": "stream",
     "text": [
      "{'name': 'Mike', 'age': 35}\n"
     ]
    }
   ],
   "source": [
    "x = dict(name=\"Mike\", age=35)\n",
    "print(x)"
   ]
  },
  {
   "cell_type": "code",
   "execution_count": 9,
   "id": "7649de04-707b-4cb7-9983-ee50d5968cd6",
   "metadata": {},
   "outputs": [
    {
     "name": "stdout",
     "output_type": "stream",
     "text": [
      "<class 'tuple'>\n"
     ]
    }
   ],
   "source": [
    "x = (\"orange\", \"apple\")\n",
    "print(type(x))"
   ]
  },
  {
   "cell_type": "code",
   "execution_count": 10,
   "id": "bf061a9d-7b94-45e9-9ceb-b46d5eec4e2c",
   "metadata": {},
   "outputs": [
    {
     "name": "stdout",
     "output_type": "stream",
     "text": [
      "<class 'list'>\n"
     ]
    }
   ],
   "source": [
    "x = ([\"orange\", \"apple\"])\n",
    "print(type(x))"
   ]
  },
  {
   "cell_type": "code",
   "execution_count": 11,
   "id": "b3d61e6c-5456-4b01-8fe1-df0c9b8a52c3",
   "metadata": {},
   "outputs": [
    {
     "name": "stdout",
     "output_type": "stream",
     "text": [
      "<class 'set'>\n"
     ]
    }
   ],
   "source": [
    "x = {\"orange\", \"apple\"}\n",
    "print(type(x))"
   ]
  },
  {
   "cell_type": "code",
   "execution_count": 14,
   "id": "00f05bc4-ef36-46b2-9d8b-a07709d696d9",
   "metadata": {},
   "outputs": [
    {
     "name": "stdout",
     "output_type": "stream",
     "text": [
      "<class 'list'>\n"
     ]
    }
   ],
   "source": [
    "x = [{\"orange\", \"apple\"}]\n",
    "print(type(x))"
   ]
  },
  {
   "cell_type": "code",
   "execution_count": 2,
   "id": "ff90ad26-ff6c-4e15-990b-9fc96fcfc833",
   "metadata": {},
   "outputs": [
    {
     "name": "stdout",
     "output_type": "stream",
     "text": [
      "<class 'frozenset'>\n"
     ]
    }
   ],
   "source": [
    "x = frozenset({\"apple\", \"banana\", \"cherry\"})\n",
    "print(type(x))"
   ]
  },
  {
   "cell_type": "code",
   "execution_count": 16,
   "id": "cd478354-8044-4794-94f6-1e0e7b0f3c33",
   "metadata": {},
   "outputs": [
    {
     "name": "stdout",
     "output_type": "stream",
     "text": [
      "9.647634584013051\n",
      "51.04563458401306\n",
      "0.028942903752039156\n",
      "570.8505383360523\n",
      "8.841428841428842\n",
      "1.1580515394746296\n",
      "-68.4606437580053\n",
      "19723.333333333332\n"
     ]
    }
   ],
   "source": [
    "a = 0.003\n",
    "b = 59.14\n",
    "c = 5.291\n",
    "d = 6.13\n",
    "e = 59.17\n",
    "f = 46.78\n",
    "r = b / d\n",
    "t = r * c\n",
    "u = f * r\n",
    "x = a * (r)\n",
    "y = e * (r)\n",
    "print(r)\n",
    "print(t)\n",
    "print(x)\n",
    "print(y)\n",
    "print(u / t)\n",
    "print((b - a * u / t) / t)\n",
    "print(a * (u / t) - b *((b - a * u / t) / t)) \n",
    "print(e / a)\n"
   ]
  },
  {
   "cell_type": "code",
   "execution_count": 17,
   "id": "383a5058-d2d3-43cf-b237-b3dc44539988",
   "metadata": {},
   "outputs": [
    {
     "name": "stdout",
     "output_type": "stream",
     "text": [
      "59.14\n"
     ]
    }
   ],
   "source": [
    "a = 0.003\n",
    "b = 59.14\n",
    "c = 5.291\n",
    "d = 6.13\n",
    "e = 59.17\n",
    "f = 46.78\n",
    "r = b / d\n",
    "t = r * c\n",
    "u = f * r\n",
    "x = a * (r)\n",
    "y = e * (r)\n",
    "print(r * d)"
   ]
  },
  {
   "cell_type": "code",
   "execution_count": 1,
   "id": "4279fe43-b16e-4ceb-afd9-45e89d43e530",
   "metadata": {},
   "outputs": [
    {
     "name": "stdout",
     "output_type": "stream",
     "text": [
      "Banana\n",
      "Apple\n",
      "Orange\n"
     ]
    }
   ],
   "source": [
    "fruits = [\"Banana\", \"Apple\", \"Orange\"]\n",
    "for x in fruits:\n",
    "    print(x)"
   ]
  },
  {
   "cell_type": "code",
   "execution_count": 2,
   "id": "e7c53a71-f838-415f-8304-919d17d65a69",
   "metadata": {},
   "outputs": [
    {
     "name": "stdout",
     "output_type": "stream",
     "text": [
      "17\n"
     ]
    }
   ],
   "source": [
    "a = \"Hard work, labour\"\n",
    "print(len(a))"
   ]
  },
  {
   "cell_type": "code",
   "execution_count": 4,
   "id": "f4925942-e9c6-496d-b855-408980479d00",
   "metadata": {},
   "outputs": [
    {
     "name": "stdout",
     "output_type": "stream",
     "text": [
      "True\n"
     ]
    }
   ],
   "source": [
    "txt = \"My name is Peter, Kari kuwe\"\n",
    "print(\"Kari\" in txt)"
   ]
  },
  {
   "cell_type": "code",
   "execution_count": 6,
   "id": "aaf9c022-fe50-4d9e-ac56-37d18cdc3f53",
   "metadata": {},
   "outputs": [
    {
     "name": "stdout",
     "output_type": "stream",
     "text": [
      "Yes, Name is required\n"
     ]
    }
   ],
   "source": [
    "txt = \"My name is Peter, Kari kuwe\"\n",
    "if \"Kari\" in txt: \n",
    "    print(\"Yes, Name is required\")"
   ]
  },
  {
   "cell_type": "code",
   "execution_count": 10,
   "id": "6d48e0ca-93f3-4d47-8356-2a1c66b467fd",
   "metadata": {},
   "outputs": [
    {
     "name": "stdout",
     "output_type": "stream",
     "text": [
      "Yes, Milliam is absent\n"
     ]
    }
   ],
   "source": [
    "txt = \"My name is Peter, Kari kuwe\"\n",
    "if \"Milliam\" not in txt: \n",
    "    print(\"Yes, Milliam is absent\")"
   ]
  },
  {
   "cell_type": "code",
   "execution_count": 15,
   "id": "e892cde5-43fa-49fa-9227-fa4309e705c9",
   "metadata": {},
   "outputs": [
    {
     "name": "stdout",
     "output_type": "stream",
     "text": [
      "ll\n"
     ]
    }
   ],
   "source": [
    "b = \"Helloao, World!\"\n",
    "print(b[2:4])"
   ]
  },
  {
   "cell_type": "code",
   "execution_count": 16,
   "id": "559bb77b-3d95-4eca-a8fa-0fc3de608e42",
   "metadata": {},
   "outputs": [
    {
     "name": "stdout",
     "output_type": "stream",
     "text": [
      "Hello\n"
     ]
    }
   ],
   "source": [
    "b = \"Hello, World!\"\n",
    "print(b[:5])"
   ]
  },
  {
   "cell_type": "code",
   "execution_count": 2,
   "id": "3073c5cb-f2f2-41ac-9082-b66d62c7511b",
   "metadata": {},
   "outputs": [
    {
     "name": "stdout",
     "output_type": "stream",
     "text": [
      "llo, World!\n"
     ]
    }
   ],
   "source": [
    "b = \"Hello, World!\"\n",
    "print(b[2:])"
   ]
  },
  {
   "cell_type": "code",
   "execution_count": 3,
   "id": "10d6520c-2ff3-4cce-ac4f-79c338030e9f",
   "metadata": {},
   "outputs": [
    {
     "name": "stdout",
     "output_type": "stream",
     "text": [
      "orl\n"
     ]
    }
   ],
   "source": [
    "b = \"Hello, World!\"\n",
    "print(b[-5:-2])"
   ]
  },
  {
   "cell_type": "code",
   "execution_count": 4,
   "id": "834fe1bf-ec03-4e65-b91b-b7e58b49cd75",
   "metadata": {},
   "outputs": [
    {
     "name": "stdout",
     "output_type": "stream",
     "text": [
      "HELLO, WORLD!\n"
     ]
    }
   ],
   "source": [
    "a = \"Hello, World!\"\n",
    "print(a.upper())"
   ]
  },
  {
   "cell_type": "code",
   "execution_count": 5,
   "id": "b498a766-cc17-4031-ae51-b17b1e0d18ef",
   "metadata": {},
   "outputs": [
    {
     "name": "stdout",
     "output_type": "stream",
     "text": [
      "hello, world!\n"
     ]
    }
   ],
   "source": [
    "a = \"Hello, World!\"\n",
    "print(a.lower())"
   ]
  },
  {
   "cell_type": "code",
   "execution_count": 6,
   "id": "2e919b09-442d-43ea-a809-93c4e84358df",
   "metadata": {},
   "outputs": [
    {
     "name": "stdout",
     "output_type": "stream",
     "text": [
      "Hello, World!\n"
     ]
    }
   ],
   "source": [
    "a = \" Hello, World! \"\n",
    "print(a.strip()) # returns \"Hello, World!\""
   ]
  },
  {
   "cell_type": "code",
   "execution_count": 7,
   "id": "28a88ce9-eae4-41ee-8402-ca6104ec4dea",
   "metadata": {},
   "outputs": [
    {
     "name": "stdout",
     "output_type": "stream",
     "text": [
      "Yillow, World!\n"
     ]
    }
   ],
   "source": [
    "a = \"Yellow, World!\"\n",
    "print(a.replace(\"e\", \"i\"))"
   ]
  },
  {
   "cell_type": "code",
   "execution_count": 8,
   "id": "1b112931-b4dc-4c2d-a281-61da5729be6b",
   "metadata": {},
   "outputs": [
    {
     "name": "stdout",
     "output_type": "stream",
     "text": [
      "['Hello', ' World!']\n"
     ]
    }
   ],
   "source": [
    "a = \"Hello, World!\"\n",
    "print(a.split(\",\")) # returns ['Hello', ' World!']"
   ]
  },
  {
   "cell_type": "code",
   "execution_count": 11,
   "id": "a0bf4fff-5c82-45f6-b30f-9528c3ceedcd",
   "metadata": {},
   "outputs": [
    {
     "name": "stdout",
     "output_type": "stream",
     "text": [
      "['Mosquito', 'bites,', 'Stagnant', 'water,', 'Sleeping', 'under', 'untreated', 'mosquito', 'net']\n"
     ]
    }
   ],
   "source": [
    "a = \"Mosquito bites, Stagnant water, Sleeping under untreated mosquito net\"\n",
    "print(a.split(\" \"))"
   ]
  },
  {
   "cell_type": "code",
   "execution_count": 18,
   "id": "50e5bbf3-693d-41a8-860d-ef07241e3395",
   "metadata": {},
   "outputs": [
    {
     "name": "stdout",
     "output_type": "stream",
     "text": [
      "Greatness requires hard work\n"
     ]
    }
   ],
   "source": [
    "a = \"Greatness requires\"\n",
    "b = \" hard work\"\n",
    "c = a + b\n",
    "print(c)"
   ]
  },
  {
   "cell_type": "code",
   "execution_count": 16,
   "id": "714250e7-1d3d-4abf-b5b6-51839c89ae49",
   "metadata": {},
   "outputs": [
    {
     "name": "stdout",
     "output_type": "stream",
     "text": [
      "Hello World\n"
     ]
    }
   ],
   "source": [
    "a = \"Hello\"\n",
    "b = \"World\"\n",
    "c = a + \" \" + b\n",
    "print(c)"
   ]
  },
  {
   "cell_type": "code",
   "execution_count": 22,
   "id": "07232862-f15e-42b9-a5b6-1864834e5bdb",
   "metadata": {},
   "outputs": [
    {
     "name": "stdout",
     "output_type": "stream",
     "text": [
      "Millian is 25 years old\n"
     ]
    }
   ],
   "source": [
    "age = 25\n",
    "txt = \"Millian is {} years old\"\n",
    "print(txt.format(age))"
   ]
  },
  {
   "cell_type": "code",
   "execution_count": 29,
   "id": "18d76243-4a92-4e14-9ff2-5629b2bafa94",
   "metadata": {},
   "outputs": [
    {
     "name": "stdout",
     "output_type": "stream",
     "text": [
      "I want 3 pieces of item 567 for 49.95 dollars.\n",
      "Amani is my second born age 4 Madiba is the first born age 9 and phoebe is the last born age 3\n"
     ]
    }
   ],
   "source": [
    "quantity = 3\n",
    "itemno = 567\n",
    "price = 49.95\n",
    "myorder = \"I want {} pieces of item {} for {} dollars.\"\n",
    "print(myorder.format(quantity, itemno, price))\n",
    "\n",
    "# this is a test of the format() \n",
    "amani = 4\n",
    "madiba = 9\n",
    "phoebe = 3\n",
    "myorder = \"Amani is my second born age {0} Madiba is the first born age {1} and phoebe is the last born age {2}\"\n",
    "print(myorder.format(amani, madiba, phoebe))"
   ]
  },
  {
   "cell_type": "code",
   "execution_count": 24,
   "id": "f1deda61-c4f5-49e8-bd57-14ccdb75baaf",
   "metadata": {},
   "outputs": [
    {
     "name": "stdout",
     "output_type": "stream",
     "text": [
      "I want to pay 49.95 dollars for 3 pieces of item 567.\n"
     ]
    }
   ],
   "source": [
    "quantity = 3\n",
    "itemno = 567\n",
    "price = 49.95\n",
    "myorder = \"I want to pay {2} dollars for {0} pieces of item {1}.\"\n",
    "print(myorder.format(quantity, itemno, price))\n"
   ]
  },
  {
   "cell_type": "code",
   "execution_count": 34,
   "id": "4b23810a-eccd-4ef6-bc58-33c6f0dedd04",
   "metadata": {},
   "outputs": [
    {
     "name": "stdout",
     "output_type": "stream",
     "text": [
      "It is true\n"
     ]
    }
   ],
   "source": [
    "if 5 > 2:\n",
    "    print(\"It is true\")"
   ]
  },
  {
   "cell_type": "code",
   "execution_count": 38,
   "id": "8d3ecfb2-2962-4838-9c1b-7877aba30ea6",
   "metadata": {},
   "outputs": [
    {
     "name": "stdout",
     "output_type": "stream",
     "text": [
      "Madiba is a brilliant boy he is in primary\n"
     ]
    }
   ],
   "source": [
    "a = \"Madiba is a brilliant boy\"\n",
    "b = \"he is in primary\"\n",
    "c = 4\n",
    "age = 16\n",
    "d = a + \" \" + b\n",
    "print(d)"
   ]
  },
  {
   "cell_type": "code",
   "execution_count": 3,
   "id": "0f50340c-c4d1-478c-bf1c-f5aa783cd416",
   "metadata": {},
   "outputs": [
    {
     "name": "stdout",
     "output_type": "stream",
     "text": [
      "We are the \"the first among equals\" of St Joscom\n"
     ]
    }
   ],
   "source": [
    "txt = \"We are the \\\"the first among equals\\\" of St Joscom\"\n",
    "print(txt)"
   ]
  },
  {
   "cell_type": "code",
   "execution_count": 5,
   "id": "a0e0993c-ca7a-443b-b119-bef739d20dad",
   "metadata": {},
   "outputs": [
    {
     "name": "stdout",
     "output_type": "stream",
     "text": [
      "Print for me \n",
      "apples price list \n",
      "quantity \n",
      "point of delivery\n"
     ]
    }
   ],
   "source": [
    "txt = \"Print for me \\napples price list \\nquantity \\npoint of delivery\"\n",
    "print(txt)"
   ]
  },
  {
   "cell_type": "code",
   "execution_count": 9,
   "id": "ceadb4ea-3111-47bf-8821-919e88c2d03b",
   "metadata": {},
   "outputs": [
    {
     "name": "stdout",
     "output_type": "stream",
     "text": [
      " point of delivery \n"
     ]
    }
   ],
   "source": [
    "txt = \"Print for me \\r apples price list \\r quantity \\r point of delivery\"\n",
    "print(txt)"
   ]
  },
  {
   "cell_type": "code",
   "execution_count": 10,
   "id": "0bdc2c75-29fc-433f-9246-b529f55b780b",
   "metadata": {},
   "outputs": [
    {
     "name": "stdout",
     "output_type": "stream",
     "text": [
      "Print for me \t apples price list \t quantity \t point of delivery\n"
     ]
    }
   ],
   "source": [
    "txt = \"Print for me \\t apples price list \\t quantity \\t point of delivery\"\n",
    "print(txt)"
   ]
  },
  {
   "cell_type": "code",
   "execution_count": 12,
   "id": "01e85924-4415-4680-b054-439ad2404c80",
   "metadata": {},
   "outputs": [
    {
     "name": "stdout",
     "output_type": "stream",
     "text": [
      "Print for meapples price listquantitypoint of delivery\n"
     ]
    }
   ],
   "source": [
    "txt = \"Print for me \\bapples price list \\bquantity \\bpoint of delivery\"\n",
    "print(txt)"
   ]
  },
  {
   "cell_type": "code",
   "execution_count": 1,
   "id": "ac3af7ed-2b1f-4208-af19-022c933cbc03",
   "metadata": {},
   "outputs": [
    {
     "name": "stdout",
     "output_type": "stream",
     "text": [
      "Print for me \f",
      " apples price list \f",
      " quantity \f",
      " point of delivery\n"
     ]
    }
   ],
   "source": [
    "txt = \"Print for me \\f apples price list \\f quantity \\f point of delivery\"\n",
    "print(txt)"
   ]
  },
  {
   "cell_type": "code",
   "execution_count": 16,
   "id": "7d3abfaa-9fd1-41c5-8e37-90144089a92f",
   "metadata": {},
   "outputs": [
    {
     "name": "stdout",
     "output_type": "stream",
     "text": [
      "I need apples at 500 , orange at 1000 , pineaple at 1500\n"
     ]
    }
   ],
   "source": [
    "apple = 500\n",
    "orange = 1000\n",
    "pineaple = 1500\n",
    "myorder = \"I need apples at {} , orange at {} , pineaple at {}\"\n",
    "print(myorder.format(apple,orange,pineaple))"
   ]
  },
  {
   "cell_type": "code",
   "execution_count": 17,
   "id": "872d0d91-c6a6-4ee9-83a0-1171be9522d2",
   "metadata": {},
   "outputs": [
    {
     "name": "stdout",
     "output_type": "stream",
     "text": [
      "Hello\n"
     ]
    }
   ],
   "source": [
    "#A backslash followed by three integers will result in a octal value:\n",
    "txt = \"\\110\\145\\154\\154\\157\"\n",
    "print(txt) "
   ]
  },
  {
   "cell_type": "code",
   "execution_count": 26,
   "id": "8e23af9e-67cd-4a91-9048-932426e19695",
   "metadata": {},
   "outputs": [
    {
     "name": "stdout",
     "output_type": "stream",
     "text": [
      "0001\n"
     ]
    }
   ],
   "source": [
    "# zfill() fixes zeros before the specified string value as shown below:\n",
    "a = \"1\"\n",
    "txt = a.zfill(4)\n",
    "print(txt)"
   ]
  },
  {
   "cell_type": "code",
   "execution_count": 32,
   "id": "080849c7-ae6f-4d42-a310-4a79e440caa9",
   "metadata": {},
   "outputs": [
    {
     "name": "stdout",
     "output_type": "stream",
     "text": [
      "b'My name is Milliam'\n"
     ]
    }
   ],
   "source": [
    "txt = \"My name is Milliam\"\n",
    "\n",
    "x = txt.encode()\n",
    "\n",
    "print(x)"
   ]
  },
  {
   "cell_type": "code",
   "execution_count": null,
   "id": "5e7b4409-7285-4b25-9ab9-7232af927aeb",
   "metadata": {},
   "outputs": [],
   "source": []
  },
  {
   "cell_type": "code",
   "execution_count": 39,
   "id": "e4641b8b-288c-4168-b35e-2d73d783e645",
   "metadata": {},
   "outputs": [
    {
     "name": "stdout",
     "output_type": "stream",
     "text": [
      "2\n"
     ]
    }
   ],
   "source": [
    "#this code counts number of letters in a sentence\n",
    "a = \"I was very excited to learn new concepts in excel\"\n",
    "\n",
    "x = a.count(\"i\")\n",
    "\n",
    "print(x)"
   ]
  },
  {
   "cell_type": "code",
   "execution_count": 45,
   "id": "841e80d1-194a-4d7f-add3-f9d5de7f4a7a",
   "metadata": {},
   "outputs": [
    {
     "name": "stdout",
     "output_type": "stream",
     "text": [
      "Hello, and welcome to my world.\n"
     ]
    }
   ],
   "source": [
    "txt = \"hello, and welcome to my world.\"\n",
    "\n",
    "x = txt.capitalize()\n",
    "\n",
    "print (x)"
   ]
  },
  {
   "cell_type": "code",
   "execution_count": 47,
   "id": "3357944f-9f6a-4048-aead-91e530817095",
   "metadata": {},
   "outputs": [
    {
     "name": "stdout",
     "output_type": "stream",
     "text": [
      "Python programming language is fun to learn!\n"
     ]
    }
   ],
   "source": [
    "txt = \"PYTHON programming language is FUN to learn!\"\n",
    "\n",
    "x = txt.capitalize()\n",
    "\n",
    "print (x)"
   ]
  },
  {
   "cell_type": "code",
   "execution_count": 48,
   "id": "8eda791a-6e71-4c63-be98-b823d4d9f62f",
   "metadata": {},
   "outputs": [
    {
     "name": "stdout",
     "output_type": "stream",
     "text": [
      "36 years of age now, i am learning python\n"
     ]
    }
   ],
   "source": [
    "txt = \"36 years of age now, I am learning python\"\n",
    "\n",
    "y = txt.capitalize()\n",
    "\n",
    "print(y)"
   ]
  },
  {
   "cell_type": "code",
   "execution_count": 50,
   "id": "f8db2363-fb40-4faa-bb45-d3d36d99efc4",
   "metadata": {},
   "outputs": [
    {
     "name": "stdout",
     "output_type": "stream",
     "text": [
      "python programming language is fun to learn!\n"
     ]
    }
   ],
   "source": [
    "txt = \"PYTHON programming language is FUN to learn!\"\n",
    "\n",
    "x = txt.lower()\n",
    "\n",
    "print (x)"
   ]
  },
  {
   "cell_type": "code",
   "execution_count": 56,
   "id": "384501c3-36da-49ec-b45e-382888b58e5b",
   "metadata": {},
   "outputs": [
    {
     "name": "stdout",
     "output_type": "stream",
     "text": [
      "11maize111\n"
     ]
    }
   ],
   "source": [
    "txt = \"maize\"\n",
    "x = txt.center(10, \"1\")\n",
    "print(x)"
   ]
  },
  {
   "cell_type": "code",
   "execution_count": 59,
   "id": "696dd0a1-e713-4fb2-8651-bbe11e6edb4e",
   "metadata": {},
   "outputs": [
    {
     "name": "stdout",
     "output_type": "stream",
     "text": [
      "2\n"
     ]
    }
   ],
   "source": [
    "txt = \"I love apples, apple are my favorite fruit\"\n",
    "\n",
    "x = txt.count(\"apple\", 5, 20)\n",
    "\n",
    "print(x)"
   ]
  },
  {
   "cell_type": "code",
   "execution_count": 60,
   "id": "c3e1ae36-8047-4cbf-b3a5-f06c04ccfe3e",
   "metadata": {},
   "outputs": [
    {
     "name": "stdout",
     "output_type": "stream",
     "text": [
      "7\n"
     ]
    }
   ],
   "source": [
    "txt = \"Hello, welcome to my world.\"\n",
    "\n",
    "x = txt.find(\"welcome\")\n",
    "\n",
    "print(x)"
   ]
  },
  {
   "cell_type": "code",
   "execution_count": 62,
   "id": "5047e96b-71ca-4285-9d1e-a8d6eaccc7ec",
   "metadata": {},
   "outputs": [
    {
     "name": "stdout",
     "output_type": "stream",
     "text": [
      "8\n"
     ]
    }
   ],
   "source": [
    "txt = \"Hello, welcome to my world.\"\n",
    "\n",
    "x = txt.find(\"e\", 2, 15)\n",
    "\n",
    "print(x)\n"
   ]
  },
  {
   "cell_type": "code",
   "execution_count": 68,
   "id": "03c993e7-5f15-46b2-9f89-0bdda1dd0a7c",
   "metadata": {},
   "outputs": [
    {
     "name": "stdout",
     "output_type": "stream",
     "text": [
      "-1\n"
     ]
    }
   ],
   "source": [
    "\"\"\"the find command \n",
    "returns -1 where the letter \n",
    "is not found in the centre\"\"\"\n",
    "\n",
    "txt = \"Hello, welcome to my world.\"\n",
    "\n",
    "x = txt.find(\"p\", 2, 15)\n",
    "print(x)\n"
   ]
  },
  {
   "cell_type": "code",
   "execution_count": 69,
   "id": "7a4d9de0-a022-431f-a2b1-b2f4b2169935",
   "metadata": {},
   "outputs": [
    {
     "name": "stdout",
     "output_type": "stream",
     "text": [
      "Two is greater than one\n"
     ]
    }
   ],
   "source": [
    "if 2 > 1:\n",
    "    print(\"Two is greater than one\")"
   ]
  },
  {
   "cell_type": "code",
   "execution_count": 72,
   "id": "c2cc8017-7afa-48cb-a71b-d761dd1187d2",
   "metadata": {},
   "outputs": [],
   "source": [
    "if 2 < 1:\n",
    "    print(\"Two is less than one\")"
   ]
  },
  {
   "cell_type": "code",
   "execution_count": 73,
   "id": "730a1edc-b552-4a9e-8f9d-6f80115ea770",
   "metadata": {},
   "outputs": [],
   "source": [
    "if 2 == 1:\n",
    "    print(\"Two is less than one\")"
   ]
  },
  {
   "cell_type": "code",
   "execution_count": 76,
   "id": "f37fe0da-a85a-474d-bd06-88f7fed9c533",
   "metadata": {},
   "outputs": [
    {
     "name": "stdout",
     "output_type": "stream",
     "text": [
      "Two is equal to four divide by two\n"
     ]
    }
   ],
   "source": [
    "if 2 == 4 / 2:\n",
    "    print(\"Two is equal to four divide by two\")"
   ]
  },
  {
   "cell_type": "code",
   "execution_count": 80,
   "id": "ecac12d6-ffe4-4b85-8c76-8fcf2d4dac31",
   "metadata": {},
   "outputs": [
    {
     "name": "stdout",
     "output_type": "stream",
     "text": [
      "a is greater than b\n"
     ]
    }
   ],
   "source": [
    "a = 2\n",
    "b = 1\n",
    "if a > b:\n",
    "    print(\"a is greater than b\")\n",
    "else:\n",
    "    print(\"b is less than a\")"
   ]
  },
  {
   "cell_type": "code",
   "execution_count": 81,
   "id": "854b7ccb-a7df-4c6a-931c-bcc8ddc6037c",
   "metadata": {},
   "outputs": [
    {
     "name": "stdout",
     "output_type": "stream",
     "text": [
      "False\n",
      "True\n",
      "False\n"
     ]
    }
   ],
   "source": [
    "print(2 == 1)\n",
    "print(2 > 1)\n",
    "print(2 < 1)"
   ]
  },
  {
   "cell_type": "code",
   "execution_count": 82,
   "id": "b0c873d9-fc32-4edd-885a-a36c74b9fc58",
   "metadata": {},
   "outputs": [
    {
     "name": "stdout",
     "output_type": "stream",
     "text": [
      "True\n",
      "True\n"
     ]
    }
   ],
   "source": [
    "print(bool(\"Welcome\"))\n",
    "print(bool(15))\n",
    "      "
   ]
  },
  {
   "cell_type": "code",
   "execution_count": 83,
   "id": "ce329635-216a-4b04-873b-1afdcfd35c02",
   "metadata": {},
   "outputs": [
    {
     "data": {
      "text/plain": [
       "True"
      ]
     },
     "execution_count": 83,
     "metadata": {},
     "output_type": "execute_result"
    }
   ],
   "source": [
    "bool(\"abc\")\n",
    "bool(123)\n",
    "bool([\"apple\", \"cherry\", \"banana\"])"
   ]
  },
  {
   "cell_type": "code",
   "execution_count": 84,
   "id": "1f9742bb-8d47-4abc-8c18-1876372a7f30",
   "metadata": {},
   "outputs": [
    {
     "data": {
      "text/plain": [
       "False"
      ]
     },
     "execution_count": 84,
     "metadata": {},
     "output_type": "execute_result"
    }
   ],
   "source": [
    "bool(False)\n",
    "bool(None)\n",
    "bool(0)\n",
    "bool(\"\")\n",
    "bool(())\n",
    "bool([])\n",
    "bool({})"
   ]
  },
  {
   "cell_type": "code",
   "execution_count": 100,
   "id": "18c9ddf2-8283-4d79-bc6b-cfe8d9f47e1a",
   "metadata": {},
   "outputs": [
    {
     "name": "stdout",
     "output_type": "stream",
     "text": [
      "True\n"
     ]
    }
   ],
   "source": [
    "y = 2\n",
    "print(isinstance(y, int))"
   ]
  },
  {
   "cell_type": "code",
   "execution_count": 110,
   "id": "4c4453d9-0c97-46ba-9286-9a50e5792f60",
   "metadata": {},
   "outputs": [
    {
     "name": "stdout",
     "output_type": "stream",
     "text": [
      "0.125\n",
      "0.05\n"
     ]
    }
   ],
   "source": [
    "x = 200\n",
    "y = 25\n",
    "print(y / x)\n",
    "print(10 / x)"
   ]
  },
  {
   "cell_type": "code",
   "execution_count": 106,
   "id": "83746ffa-0d1a-424a-8d18-d1105fbbcd96",
   "metadata": {},
   "outputs": [
    {
     "name": "stdout",
     "output_type": "stream",
     "text": [
      "10\n"
     ]
    }
   ],
   "source": [
    "X"
   ]
  },
  {
   "cell_type": "code",
   "execution_count": 3,
   "id": "6d2adf6b-7613-4910-bc4d-ed5a3fc72982",
   "metadata": {},
   "outputs": [],
   "source": [
    "if 5 < 3:\n",
    "    print(\"Five is less than three\")"
   ]
  },
  {
   "cell_type": "code",
   "execution_count": 4,
   "id": "3b5652a3-0076-4b2e-87bb-ad590eef946e",
   "metadata": {},
   "outputs": [
    {
     "name": "stdout",
     "output_type": "stream",
     "text": [
      "True\n",
      "False\n",
      "False\n"
     ]
    }
   ],
   "source": [
    "print(10 > 9)\n",
    "print(10 == 9)\n",
    "print(10 < 9)\n"
   ]
  },
  {
   "cell_type": "code",
   "execution_count": 5,
   "id": "0c8cb04f-afb3-48df-b373-b48c16771214",
   "metadata": {},
   "outputs": [
    {
     "name": "stdout",
     "output_type": "stream",
     "text": [
      "Five is less than three\n"
     ]
    }
   ],
   "source": [
    "a = 5\n",
    "b = 3\n",
    "if b > a:\n",
    "    print(\"Five is greater than three\")\n",
    "else:\n",
    "    print(\"Five is less than three\")"
   ]
  },
  {
   "cell_type": "code",
   "execution_count": 7,
   "id": "7e8c159b-f5de-4ffd-a4e9-504399dd0b35",
   "metadata": {},
   "outputs": [
    {
     "name": "stdout",
     "output_type": "stream",
     "text": [
      "True\n"
     ]
    }
   ],
   "source": [
    "print(bool(\"hello\"))"
   ]
  },
  {
   "cell_type": "code",
   "execution_count": 8,
   "id": "e4878a9d-3cf2-4765-9fa1-0f1c8c784225",
   "metadata": {},
   "outputs": [
    {
     "name": "stdout",
     "output_type": "stream",
     "text": [
      "True\n"
     ]
    }
   ],
   "source": [
    "def myFunction() :\n",
    "  return True\n",
    "\n",
    "print(myFunction())"
   ]
  },
  {
   "cell_type": "code",
   "execution_count": 10,
   "id": "48823681-0313-40ca-aecc-999a2ac6d570",
   "metadata": {},
   "outputs": [
    {
     "name": "stdout",
     "output_type": "stream",
     "text": [
      "1\n"
     ]
    }
   ],
   "source": [
    "x = 5 & 3\n",
    "print(x)"
   ]
  },
  {
   "cell_type": "code",
   "execution_count": null,
   "id": "57f6906b-1128-4b7b-b472-4f7a19ddefc0",
   "metadata": {},
   "outputs": [],
   "source": []
  }
 ],
 "metadata": {
  "kernelspec": {
   "display_name": "Python 3 (ipykernel)",
   "language": "python",
   "name": "python3"
  },
  "language_info": {
   "codemirror_mode": {
    "name": "ipython",
    "version": 3
   },
   "file_extension": ".py",
   "mimetype": "text/x-python",
   "name": "python",
   "nbconvert_exporter": "python",
   "pygments_lexer": "ipython3",
   "version": "3.11.5"
  }
 },
 "nbformat": 4,
 "nbformat_minor": 5
}
