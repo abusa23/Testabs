{
 "cells": [
  {
   "cell_type": "code",
   "execution_count": 4,
   "id": "2fa6deae-9138-4263-be49-f3692d470015",
   "metadata": {},
   "outputs": [
    {
     "name": "stdout",
     "output_type": "stream",
     "text": [
      "Seven is greater than four\n"
     ]
    }
   ],
   "source": [
    "if 7 > 4:\n",
    "    print(\"Seven is greater than four\")"
   ]
  },
  {
   "cell_type": "code",
   "execution_count": 2,
   "id": "b7743348-8764-4375-b893-d0797136f57a",
   "metadata": {},
   "outputs": [
    {
     "name": "stdout",
     "output_type": "stream",
     "text": [
      "<class 'str'>\n"
     ]
    }
   ],
   "source": [
    "x = str(\"Hello world!\")\n",
    "print(type(x))"
   ]
  },
  {
   "cell_type": "code",
   "execution_count": 6,
   "id": "efa5b450-bd10-413a-8ba0-84d3c705432e",
   "metadata": {},
   "outputs": [
    {
     "name": "stdout",
     "output_type": "stream",
     "text": [
      "{'name': 'Mike', 'age': 35}\n"
     ]
    }
   ],
   "source": [
    "x = dict(name=\"Mike\", age=35)\n",
    "print(x)"
   ]
  },
  {
   "cell_type": "code",
   "execution_count": 9,
   "id": "7649de04-707b-4cb7-9983-ee50d5968cd6",
   "metadata": {},
   "outputs": [
    {
     "name": "stdout",
     "output_type": "stream",
     "text": [
      "<class 'tuple'>\n"
     ]
    }
   ],
   "source": [
    "x = (\"orange\", \"apple\")\n",
    "print(type(x))"
   ]
  },
  {
   "cell_type": "code",
   "execution_count": 10,
   "id": "bf061a9d-7b94-45e9-9ceb-b46d5eec4e2c",
   "metadata": {},
   "outputs": [
    {
     "name": "stdout",
     "output_type": "stream",
     "text": [
      "<class 'list'>\n"
     ]
    }
   ],
   "source": [
    "x = ([\"orange\", \"apple\"])\n",
    "print(type(x))"
   ]
  },
  {
   "cell_type": "code",
   "execution_count": 11,
   "id": "b3d61e6c-5456-4b01-8fe1-df0c9b8a52c3",
   "metadata": {},
   "outputs": [
    {
     "name": "stdout",
     "output_type": "stream",
     "text": [
      "<class 'set'>\n"
     ]
    }
   ],
   "source": [
    "x = {\"orange\", \"apple\"}\n",
    "print(type(x))"
   ]
  },
  {
   "cell_type": "code",
   "execution_count": 14,
   "id": "00f05bc4-ef36-46b2-9d8b-a07709d696d9",
   "metadata": {},
   "outputs": [
    {
     "name": "stdout",
     "output_type": "stream",
     "text": [
      "<class 'list'>\n"
     ]
    }
   ],
   "source": [
    "x = [{\"orange\", \"apple\"}]\n",
    "print(type(x))"
   ]
  },
  {
   "cell_type": "code",
   "execution_count": 2,
   "id": "ff90ad26-ff6c-4e15-990b-9fc96fcfc833",
   "metadata": {},
   "outputs": [
    {
     "name": "stdout",
     "output_type": "stream",
     "text": [
      "<class 'frozenset'>\n"
     ]
    }
   ],
   "source": [
    "x = frozenset({\"apple\", \"banana\", \"cherry\"})\n",
    "print(type(x))"
   ]
  },
  {
   "cell_type": "code",
   "execution_count": 16,
   "id": "cd478354-8044-4794-94f6-1e0e7b0f3c33",
   "metadata": {},
   "outputs": [
    {
     "name": "stdout",
     "output_type": "stream",
     "text": [
      "9.647634584013051\n",
      "51.04563458401306\n",
      "0.028942903752039156\n",
      "570.8505383360523\n",
      "8.841428841428842\n",
      "1.1580515394746296\n",
      "-68.4606437580053\n",
      "19723.333333333332\n"
     ]
    }
   ],
   "source": [
    "a = 0.003\n",
    "b = 59.14\n",
    "c = 5.291\n",
    "d = 6.13\n",
    "e = 59.17\n",
    "f = 46.78\n",
    "r = b / d\n",
    "t = r * c\n",
    "u = f * r\n",
    "x = a * (r)\n",
    "y = e * (r)\n",
    "print(r)\n",
    "print(t)\n",
    "print(x)\n",
    "print(y)\n",
    "print(u / t)\n",
    "print((b - a * u / t) / t)\n",
    "print(a * (u / t) - b *((b - a * u / t) / t)) \n",
    "print(e / a)\n"
   ]
  },
  {
   "cell_type": "code",
   "execution_count": 17,
   "id": "383a5058-d2d3-43cf-b237-b3dc44539988",
   "metadata": {},
   "outputs": [
    {
     "name": "stdout",
     "output_type": "stream",
     "text": [
      "59.14\n"
     ]
    }
   ],
   "source": [
    "a = 0.003\n",
    "b = 59.14\n",
    "c = 5.291\n",
    "d = 6.13\n",
    "e = 59.17\n",
    "f = 46.78\n",
    "r = b / d\n",
    "t = r * c\n",
    "u = f * r\n",
    "x = a * (r)\n",
    "y = e * (r)\n",
    "print(r * d)"
   ]
  },
  {
   "cell_type": "code",
   "execution_count": 1,
   "id": "4279fe43-b16e-4ceb-afd9-45e89d43e530",
   "metadata": {},
   "outputs": [
    {
     "name": "stdout",
     "output_type": "stream",
     "text": [
      "Banana\n",
      "Apple\n",
      "Orange\n"
     ]
    }
   ],
   "source": [
    "fruits = [\"Banana\", \"Apple\", \"Orange\"]\n",
    "for x in fruits:\n",
    "    print(x)"
   ]
  },
  {
   "cell_type": "code",
   "execution_count": 2,
   "id": "e7c53a71-f838-415f-8304-919d17d65a69",
   "metadata": {},
   "outputs": [
    {
     "name": "stdout",
     "output_type": "stream",
     "text": [
      "17\n"
     ]
    }
   ],
   "source": [
    "a = \"Hard work, labour\"\n",
    "print(len(a))"
   ]
  },
  {
   "cell_type": "code",
   "execution_count": 4,
   "id": "f4925942-e9c6-496d-b855-408980479d00",
   "metadata": {},
   "outputs": [
    {
     "name": "stdout",
     "output_type": "stream",
     "text": [
      "True\n"
     ]
    }
   ],
   "source": [
    "txt = \"My name is Peter, Kari kuwe\"\n",
    "print(\"Kari\" in txt)"
   ]
  },
  {
   "cell_type": "code",
   "execution_count": 6,
   "id": "aaf9c022-fe50-4d9e-ac56-37d18cdc3f53",
   "metadata": {},
   "outputs": [
    {
     "name": "stdout",
     "output_type": "stream",
     "text": [
      "Yes, Name is required\n"
     ]
    }
   ],
   "source": [
    "txt = \"My name is Peter, Kari kuwe\"\n",
    "if \"Kari\" in txt: \n",
    "    print(\"Yes, Name is required\")"
   ]
  },
  {
   "cell_type": "code",
   "execution_count": 10,
   "id": "6d48e0ca-93f3-4d47-8356-2a1c66b467fd",
   "metadata": {},
   "outputs": [
    {
     "name": "stdout",
     "output_type": "stream",
     "text": [
      "Yes, Milliam is absent\n"
     ]
    }
   ],
   "source": [
    "txt = \"My name is Peter, Kari kuwe\"\n",
    "if \"Milliam\" not in txt: \n",
    "    print(\"Yes, Milliam is absent\")"
   ]
  },
  {
   "cell_type": "code",
   "execution_count": 15,
   "id": "e892cde5-43fa-49fa-9227-fa4309e705c9",
   "metadata": {},
   "outputs": [
    {
     "name": "stdout",
     "output_type": "stream",
     "text": [
      "ll\n"
     ]
    }
   ],
   "source": [
    "b = \"Helloao, World!\"\n",
    "print(b[2:4])"
   ]
  },
  {
   "cell_type": "code",
   "execution_count": 16,
   "id": "559bb77b-3d95-4eca-a8fa-0fc3de608e42",
   "metadata": {},
   "outputs": [
    {
     "name": "stdout",
     "output_type": "stream",
     "text": [
      "Hello\n"
     ]
    }
   ],
   "source": [
    "b = \"Hello, World!\"\n",
    "print(b[:5])"
   ]
  },
  {
   "cell_type": "code",
   "execution_count": null,
   "id": "3073c5cb-f2f2-41ac-9082-b66d62c7511b",
   "metadata": {},
   "outputs": [],
   "source": []
  }
 ],
 "metadata": {
  "kernelspec": {
   "display_name": "Python 3 (ipykernel)",
   "language": "python",
   "name": "python3"
  },
  "language_info": {
   "codemirror_mode": {
    "name": "ipython",
    "version": 3
   },
   "file_extension": ".py",
   "mimetype": "text/x-python",
   "name": "python",
   "nbconvert_exporter": "python",
   "pygments_lexer": "ipython3",
   "version": "3.11.5"
  }
 },
 "nbformat": 4,
 "nbformat_minor": 5
}
