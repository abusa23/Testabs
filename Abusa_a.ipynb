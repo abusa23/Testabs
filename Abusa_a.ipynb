{
 "cells": [
  {
   "cell_type": "code",
   "execution_count": 5,
   "id": "b6edda76",
   "metadata": {},
   "outputs": [
    {
     "name": "stdout",
     "output_type": "stream",
     "text": [
      "The product of 8 and 1 is: 8\n",
      "8\n"
     ]
    }
   ],
   "source": [
    "\"\"\"\n",
    "A recursive function that computes xy for given numbers x and y, where y is an integer. No use of ** .\n",
    "\"\"\"\n",
    "def product(x, y):\n",
    "    # Base case: if y is 0, the product is 0\n",
    "    if y == 0:\n",
    "        return 0\n",
    "    # Recursive case: add 'x' to the product of (x, y-1)\n",
    "    return x + product(x, y - 1)\n",
    "\n",
    "x = 8\n",
    "y = 1\n",
    "result = product(x, y)\n",
    "print(f\"The product of {x} and {y} is: {result}\")\n",
    "print(result)"
   ]
  },
  {
   "cell_type": "code",
   "execution_count": 5,
   "id": "57a60c58",
   "metadata": {},
   "outputs": [
    {
     "name": "stdout",
     "output_type": "stream",
     "text": [
      "Product (Iterative): 720\n",
      "\n",
      "\n"
     ]
    }
   ],
   "source": [
    "# Using Iteration\n",
    "\n",
    "def product_iterative(numbers):\n",
    "    result = 1\n",
    "    for num in numbers:\n",
    "        result *= num\n",
    "    return result\n",
    "\n",
    "number_list = [1, 2, 3, 4, 5, 6]\n",
    "result_iterative = product_iterative(number_list)\n",
    "print(\"Product (Iterative):\", result_iterative)\n",
    "\n",
    "print(\"\\n\")"
   ]
  },
  {
   "cell_type": "code",
   "execution_count": 6,
   "id": "f05c726e",
   "metadata": {},
   "outputs": [
    {
     "name": "stdout",
     "output_type": "stream",
     "text": [
      "Mean: 350.0\n"
     ]
    }
   ],
   "source": [
    "def calculate_mean(numbers):\n",
    "    # Ensure the list is not empty\n",
    "    if not numbers:\n",
    "        raise ValueError(\"Input list is empty\")\n",
    "\n",
    "    # Calculate mean\n",
    "    mean = sum(numbers) / len(numbers)\n",
    "\n",
    "    return mean\n",
    "\n",
    "numbers = [100, 200, 300, 400, 500, 600]\n",
    "mean = calculate_mean(numbers)\n",
    "print(\"Mean:\", mean)"
   ]
  },
  {
   "cell_type": "code",
   "execution_count": 7,
   "id": "365f9fa9",
   "metadata": {},
   "outputs": [
    {
     "name": "stdout",
     "output_type": "stream",
     "text": [
      "a is greater b\n"
     ]
    }
   ],
   "source": [
    "a = 5\n",
    "b = 3\n",
    "if a > b:\n",
    "    print(\"a is greater b\")\n",
    "    "
   ]
  },
  {
   "cell_type": "code",
   "execution_count": 31,
   "id": "7c9e64f4",
   "metadata": {},
   "outputs": [
    {
     "name": "stdout",
     "output_type": "stream",
     "text": [
      "['pawpaw', 'kiwi', 'berry']\n"
     ]
    }
   ],
   "source": [
    "fruits = [\"apple\", \"pawpaw\", \"kiwi\", \"berry\"]\n",
    "print(fruits[1:4])\n"
   ]
  },
  {
   "cell_type": "code",
   "execution_count": 27,
   "id": "5f59c273",
   "metadata": {},
   "outputs": [
    {
     "name": "stdout",
     "output_type": "stream",
     "text": [
      "Mean: 350\n"
     ]
    }
   ],
   "source": [
    "numbers = [100, 200, 300, 400, 500, 600]\n",
    "mean = sum(numbers) // len(numbers)\n",
    "print(\"Mean:\", mean)"
   ]
  },
  {
   "cell_type": "code",
   "execution_count": null,
   "id": "946be799",
   "metadata": {},
   "outputs": [],
   "source": []
  }
 ],
 "metadata": {
  "kernelspec": {
   "display_name": "Python 3 (ipykernel)",
   "language": "python",
   "name": "python3"
  },
  "language_info": {
   "codemirror_mode": {
    "name": "ipython",
    "version": 3
   },
   "file_extension": ".py",
   "mimetype": "text/x-python",
   "name": "python",
   "nbconvert_exporter": "python",
   "pygments_lexer": "ipython3",
   "version": "3.11.5"
  }
 },
 "nbformat": 4,
 "nbformat_minor": 5
}
