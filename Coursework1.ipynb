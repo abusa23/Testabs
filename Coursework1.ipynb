{
 "cells": [
  {
   "cell_type": "code",
   "execution_count": 1,
   "id": "247af68a-42c2-4e62-97d5-db147289a427",
   "metadata": {},
   "outputs": [
    {
     "name": "stdout",
     "output_type": "stream",
     "text": [
      "385\n",
      "770\n",
      "1155\n",
      "1540\n",
      "1925\n",
      "2310\n",
      "2695\n",
      "3080\n",
      "3465\n",
      "3850\n",
      "4235\n",
      "4620\n",
      "5005\n",
      "5390\n",
      "5775\n",
      "6160\n",
      "6545\n",
      "6930\n",
      "7315\n",
      "7700\n"
     ]
    }
   ],
   "source": [
    "def power(a, b):\n",
    "    if b == 0:\n",
    "        return 1\n",
    "    else:\n",
    "        return a * power(a, b-1)\n",
    "\n",
    "def product_iterative(numbers):\n",
    "    result = 1\n",
    "    for number in numbers:\n",
    "        result *= number\n",
    "    return result\n",
    "\n",
    "def product_recursive(numbers):\n",
    "    if len(numbers) == 0:\n",
    "        return 1\n",
    "    else:\n",
    "        return numbers[0] * product_recursive(numbers[1:])\n",
    "\n",
    "def median_mean(numbers):\n",
    "    \"\"\"\n",
    "    This function takes a list of numbers and returns the median and mean.\n",
    "    \"\"\"\n",
    "    # Calculate the median\n",
    "    numbers.sort()\n",
    "    length = len(numbers)\n",
    "    if length % 2 == 0:\n",
    "        median = (numbers[length//2] + numbers[length//2 - 1])/2\n",
    "    else:\n",
    "        median = numbers[length//2]\n",
    "\n",
    "    # Calculate the mean\n",
    "    mean = sum(numbers)/length\n",
    "    \n",
    "import numpy as np\n",
    "\n",
    "def dict_to_numpy(d):\n",
    "    keys = np.array(list(d.keys()))\n",
    "    values = np.array(list(d.values()))\n",
    "    return keys, values\n",
    "\n",
    "import numpy as np\n",
    "\n",
    "def dif2(N):\n",
    "    A = np.zeros((N, N))\n",
    "    np.fill_diagonal(A, -1.0)\n",
    "    return A\n",
    "\n",
    "import numpy as np\n",
    "\n",
    "N = 10\n",
    "b = np.zeros(N)\n",
    "b[0] = 1.0\n",
    "b[-1] = -N\n",
    "\n",
    "count = 0\n",
    "num = 1\n",
    "while count < 20:\n",
    "    if num % 5 == 0 and num % 7 == 0 and num % 11 == 0:\n",
    "        print(num)\n",
    "        count += 1\n",
    "    num += 1"
   ]
  },
  {
   "cell_type": "code",
   "execution_count": 13,
   "id": "20862c5a-36a4-4130-abbe-8c8543324bd0",
   "metadata": {},
   "outputs": [
    {
     "name": "stdout",
     "output_type": "stream",
     "text": [
      "['a' 'b' 'c']\n",
      "[1 2 3]\n"
     ]
    }
   ],
   "source": [
    "d = {'a': 1, 'b': 2, 'c': 3}\n",
    "keys, values = dict_to_numpy(d)\n",
    "print(keys)   # ['a' 'b' 'c']\n",
    "print(values) # [1 2 3]\n"
   ]
  },
  {
   "cell_type": "code",
   "execution_count": 5,
   "id": "4059f391-4790-41a7-8edb-f57f310cb44c",
   "metadata": {},
   "outputs": [
    {
     "name": "stdout",
     "output_type": "stream",
     "text": [
      "1\n"
     ]
    }
   ],
   "source": [
    "def product(a, b):\n",
    "    if b == 0:\n",
    "        return 1\n",
    "    else: \n",
    "        return product(a, b-1)\n",
    "a = 1\n",
    "b = 0\n",
    "print(product(a, b))"
   ]
  },
  {
   "cell_type": "code",
   "execution_count": null,
   "id": "b25034d4-1c84-4efb-a462-a694067e469f",
   "metadata": {},
   "outputs": [],
   "source": []
  },
  {
   "cell_type": "code",
   "execution_count": 3,
   "id": "1c854992-10db-4ebb-bc1d-4d63149e25f3",
   "metadata": {},
   "outputs": [],
   "source": [
    "import numpy as np\n",
    "\n",
    "def dif2(N):\n",
    "    A = np.zeros((N, N))\n",
    "    np.fill_diagonal(A, -1.0)\n",
    "    return A"
   ]
  },
  {
   "cell_type": "code",
   "execution_count": null,
   "id": "5ca76d9f-dc86-4081-a828-44029767dbeb",
   "metadata": {},
   "outputs": [],
   "source": []
  }
 ],
 "metadata": {
  "kernelspec": {
   "display_name": "Python 3 (ipykernel)",
   "language": "python",
   "name": "python3"
  },
  "language_info": {
   "codemirror_mode": {
    "name": "ipython",
    "version": 3
   },
   "file_extension": ".py",
   "mimetype": "text/x-python",
   "name": "python",
   "nbconvert_exporter": "python",
   "pygments_lexer": "ipython3",
   "version": "3.11.5"
  }
 },
 "nbformat": 4,
 "nbformat_minor": 5
}
