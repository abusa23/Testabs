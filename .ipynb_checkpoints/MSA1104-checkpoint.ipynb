{
 "cells": [
  {
   "cell_type": "code",
   "execution_count": 4,
   "id": "5c3506fb-a46d-46c2-ad67-0cdd38850565",
   "metadata": {},
   "outputs": [
    {
     "name": "stdout",
     "output_type": "stream",
     "text": [
      "9\n"
     ]
    }
   ],
   "source": [
    "import random\n",
    "print(random.randrange(1, 10))"
   ]
  },
  {
   "cell_type": "code",
   "execution_count": 7,
   "id": "6a8bc2ca-e1d6-4157-91cc-ea593930aeec",
   "metadata": {},
   "outputs": [
    {
     "name": "stdout",
     "output_type": "stream",
     "text": [
      "My name is Michael, I am 35 years of age and a student of Muni University\n"
     ]
    }
   ],
   "source": [
    "age = 35\n",
    "txt = \"My name is Michael, I am {} years of age and a student of Muni University\"\n",
    "print(txt.format(age))"
   ]
  },
  {
   "cell_type": "code",
   "execution_count": 9,
   "id": "02c04ae3-54fd-4771-a5ed-b9514f18e6c3",
   "metadata": {},
   "outputs": [
    {
     "name": "stdout",
     "output_type": "stream",
     "text": [
      "\n",
      "\n",
      "Recursion Example Results\n",
      "1\n",
      "3\n",
      "6\n",
      "10\n",
      "15\n",
      "21\n",
      "28\n",
      "36\n",
      "45\n",
      "55\n"
     ]
    },
    {
     "data": {
      "text/plain": [
       "55"
      ]
     },
     "execution_count": 9,
     "metadata": {},
     "output_type": "execute_result"
    }
   ],
   "source": [
    "def tri_recursion(k):\n",
    "  if(k > 0):\n",
    "    result = k + tri_recursion(k - 1)\n",
    "    print(result)\n",
    "  else:\n",
    "    result = 0\n",
    "  return result\n",
    "\n",
    "print(\"\\n\\nRecursion Example Results\")\n",
    "tri_recursion(10)"
   ]
  },
  {
   "cell_type": "code",
   "execution_count": 10,
   "id": "2ebece8d-5bfb-45bc-a3a4-c525a12d9b91",
   "metadata": {},
   "outputs": [
    {
     "name": "stdout",
     "output_type": "stream",
     "text": [
      "13\n"
     ]
    }
   ],
   "source": [
    "x = lambda a, b, c : a + b + c\n",
    "print(x(5, 6, 2))"
   ]
  },
  {
   "cell_type": "code",
   "execution_count": 11,
   "id": "352a9ff9-52c3-49c2-9afe-5393a7d44255",
   "metadata": {},
   "outputs": [],
   "source": [
    "class CSP: \n",
    "\tdef __init__(self, variables, Domains,constraints): \n",
    "\t\tself.variables = variables \n",
    "\t\tself.domains = Domains \n",
    "\t\tself.constraints = constraints \n",
    "\t\tself.solution = None\n",
    "\n",
    "\tdef solve(self): \n",
    "\t\tassignment = {} \n",
    "\t\tself.solution = self.backtrack(assignment) \n",
    "\t\treturn self.solution \n",
    "\n",
    "\tdef backtrack(self, assignment): \n",
    "\t\tif len(assignment) == len(self.variables): \n",
    "\t\t\treturn assignment \n",
    "\n",
    "\t\tvar = self.select_unassigned_variable(assignment) \n",
    "\t\tfor value in self.order_domain_values(var, assignment): \n",
    "\t\t\tif self.is_consistent(var, value, assignment): \n",
    "\t\t\t\tassignment[var] = value \n",
    "\t\t\t\tresult = self.backtrack(assignment) \n",
    "\t\t\t\tif result is not None: \n",
    "\t\t\t\t\treturn result \n",
    "\t\t\t\tdel assignment[var] \n",
    "\t\treturn None\n",
    "\n",
    "\tdef select_unassigned_variable(self, assignment): \n",
    "\t\tunassigned_vars = [var for var in self.variables if var not in assignment] \n",
    "\t\treturn min(unassigned_vars, key=lambda var: len(self.domains[var])) \n",
    "\n",
    "\tdef order_domain_values(self, var, assignment): \n",
    "\t\treturn self.domains[var] \n",
    "\n",
    "\tdef is_consistent(self, var, value, assignment): \n",
    "\t\tfor constraint_var in self.constraints[var]: \n",
    "\t\t\tif constraint_var in assignment and assignment[constraint_var] == value: \n",
    "\t\t\t\treturn False\n",
    "\t\treturn True\n"
   ]
  },
  {
   "cell_type": "code",
   "execution_count": null,
   "id": "40809c9d-cde4-4c26-9c17-fb0ca9c258f6",
   "metadata": {},
   "outputs": [],
   "source": []
  }
 ],
 "metadata": {
  "kernelspec": {
   "display_name": "Python 3 (ipykernel)",
   "language": "python",
   "name": "python3"
  },
  "language_info": {
   "codemirror_mode": {
    "name": "ipython",
    "version": 3
   },
   "file_extension": ".py",
   "mimetype": "text/x-python",
   "name": "python",
   "nbconvert_exporter": "python",
   "pygments_lexer": "ipython3",
   "version": "3.11.5"
  }
 },
 "nbformat": 4,
 "nbformat_minor": 5
}
