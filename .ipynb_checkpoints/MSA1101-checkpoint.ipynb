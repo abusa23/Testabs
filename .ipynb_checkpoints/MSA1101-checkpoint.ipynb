{
 "cells": [
  {
   "cell_type": "code",
   "execution_count": 1,
   "id": "ec17b4ac-aa03-480b-81cf-46f3fdcaeabc",
   "metadata": {},
   "outputs": [
    {
     "name": "stdout",
     "output_type": "stream",
     "text": [
      "24\n"
     ]
    }
   ],
   "source": [
    "# Number 1\n",
    "def recursive_ab(a, b):\n",
    "    if a < b:\n",
    "        return recursive_ab(b, a)\n",
    "    elif b != 0:\n",
    "        return(a + recursive_ab(a, b-1))\n",
    "    else: return 0\n",
    "a = 4  \n",
    "b = 6\n",
    "print(recursive_ab(a, b))"
   ]
  },
  {
   "cell_type": "code",
   "execution_count": 4,
   "id": "874ec5a8-f16a-4cca-9cf2-fead2fe9ccba",
   "metadata": {},
   "outputs": [
    {
     "name": "stdout",
     "output_type": "stream",
     "text": [
      "24\n",
      "24\n"
     ]
    }
   ],
   "source": [
    "# Number 2\n",
    "# The iteration function\n",
    "def product_iterative(list_of_numbers):\n",
    "    result = 1\n",
    "    for number in list_of_numbers:\n",
    "        result *= number\n",
    "    return result\n",
    "# The recursion function\n",
    "def product_recursive(list_of_numbers):\n",
    "    if len(list_of_numbers) == 0:\n",
    "        return 1\n",
    "    else:\n",
    "        return list_of_numbers[0] * product_recursive(list_of_numbers[1:])\n",
    "    \n",
    "list_of_numbers = [1, 2, 3, 4]\n",
    "\n",
    "#function call\n",
    "iteration = product_iterative(list_of_numbers)\n",
    "recursion = product_recursive(list_of_numbers)\n",
    "\n",
    "print(iteration)\n",
    "print(recursion)"
   ]
  },
  {
   "cell_type": "code",
   "execution_count": 1,
   "id": "96c4a855-edf9-4cd0-943e-5fd5b6ed27dd",
   "metadata": {},
   "outputs": [
    {
     "data": {
      "text/plain": [
       "(6.5, 7.0)"
      ]
     },
     "execution_count": 1,
     "metadata": {},
     "output_type": "execute_result"
    }
   ],
   "source": [
    "# Number 3\n",
    "\n",
    "def median_mean(list_of_numbers):\n",
    "\n",
    "#re-arrange the numbers\n",
    "    list_of_numbers.sort()\n",
    "\n",
    "#calculate the median of the list of numbers\n",
    "    if len(list_of_numbers) % 2 == 0:\n",
    "        a = len(list_of_numbers) // 2\n",
    "        b = len(list_of_numbers) // 2 - 1\n",
    "        median_of_list_of_numbers = (list_of_numbers[a] + list_of_numbers[b]) / 2\n",
    "    else:\n",
    "        len(list_of_numbers) % 2 == 1\n",
    "        median_of_list_of_numbers = list_of_numbers[a]\n",
    "\n",
    "#calculate the mean of the list of numbers\n",
    "    mean_of_list_of_numbers = sum(list_of_numbers) / len(list_of_numbers)\n",
    "    return median_of_list_of_numbers, mean_of_list_of_numbers\n",
    "    \n",
    "list_of_numbers = [1, 5, 3, 6, 5, 7, 9, 11, 13, 10]\n",
    "median_mean(list_of_numbers)"
   ]
  },
  {
   "cell_type": "code",
   "execution_count": 1,
   "id": "b65dcc1a-f378-439d-a8ce-487356d8732e",
   "metadata": {},
   "outputs": [
    {
     "name": "stdout",
     "output_type": "stream",
     "text": [
      "Keys: ['age' 'weight' 'height']\n",
      "Values: [25 70  7]\n"
     ]
    }
   ],
   "source": [
    "# Number 4\n",
    "\n",
    "import numpy as np\n",
    "\n",
    "def dict_to_numpy_arrays(dicts):\n",
    "\n",
    "# Get the keys and values from the dictionary\n",
    "    keys = list(dicts.keys())\n",
    "    values = list(dicts.values())\n",
    "    \n",
    "# Convert the keys and values to NumPy arrays\n",
    "    keys_array = np.array(keys)\n",
    "    values_array = np.array(values)\n",
    "\n",
    "    return keys_array, values_array\n",
    "# input dictionary\n",
    "    \n",
    "dicts = {'age': 25, 'weight': 70, 'height': 7}\n",
    "keys_array, values_array = dict_to_numpy_arrays(dicts)\n",
    "\n",
    "print(\"Keys:\", keys_array)\n",
    "print(\"Values:\", values_array)"
   ]
  },
  {
   "cell_type": "code",
   "execution_count": 7,
   "id": "b015df16-4384-498b-ae47-5233de59289c",
   "metadata": {},
   "outputs": [
    {
     "name": "stdout",
     "output_type": "stream",
     "text": [
      "[[-1. -0.]\n",
      " [-0. -1.]]\n"
     ]
    }
   ],
   "source": [
    "import numpy as np\n",
    "\n",
    "def dif2(N):\n",
    "# Creating a diagonal matrix with -1.0 on the main diagonal\n",
    "    X = -1.0 * np.eye(N)  \n",
    "    return X\n",
    "\n",
    "# input of N\n",
    "N = 2\n",
    "result = dif2(N)\n",
    "print(result)"
   ]
  },
  {
   "cell_type": "code",
   "execution_count": 16,
   "id": "cadfb74f-9079-4160-83d3-906a80a2f092",
   "metadata": {},
   "outputs": [
    {
     "name": "stdout",
     "output_type": "stream",
     "text": [
      "Array b: [  1.   0.   0.   0.   0.   0.   0.   0.   0. -10.]\n",
      "Solution x: [-1. -0. -0. -0. -0. -0. -0. -0. -0. 10.]\n"
     ]
    }
   ],
   "source": [
    "# Number 6\n",
    "\n",
    "import numpy as np\n",
    "\n",
    "def construct_b(N):\n",
    "    b = np.zeros(N)\n",
    "    b[0] = 1.0\n",
    "    b[-1] = -N\n",
    "    return b\n",
    "N = 10\n",
    "b = construct_b(N)\n",
    "A = dif2(N)\n",
    "# Using the dif2 function from the previous response to construct A\n",
    "\n",
    "x = np.linalg.solve(A, b)\n",
    "\n",
    "print(\"Array b:\", b)\n",
    "print(\"Solution x:\", x)\n"
   ]
  },
  {
   "cell_type": "code",
   "execution_count": 3,
   "id": "9754f0ad-6f83-4084-bee9-c3bba5b13a00",
   "metadata": {},
   "outputs": [
    {
     "name": "stdout",
     "output_type": "stream",
     "text": [
      "385\n",
      "770\n",
      "1155\n",
      "1540\n",
      "1925\n",
      "2310\n",
      "2695\n",
      "3080\n",
      "3465\n",
      "3850\n",
      "4235\n",
      "4620\n",
      "5005\n",
      "5390\n",
      "5775\n",
      "6160\n",
      "6545\n",
      "6930\n",
      "7315\n",
      "7700\n"
     ]
    }
   ],
   "source": [
    "# Number 7\n",
    "i = 0\n",
    "x = 11\n",
    "\n",
    "while i < 20:\n",
    "    if x % 5 == 0 and x % 7 == 0 and x % 11 == 0:\n",
    "        print(x)\n",
    "        i += 1\n",
    "    x += 1"
   ]
  }
 ],
 "metadata": {
  "kernelspec": {
   "display_name": "Python 3 (ipykernel)",
   "language": "python",
   "name": "python3"
  },
  "language_info": {
   "codemirror_mode": {
    "name": "ipython",
    "version": 3
   },
   "file_extension": ".py",
   "mimetype": "text/x-python",
   "name": "python",
   "nbconvert_exporter": "python",
   "pygments_lexer": "ipython3",
   "version": "3.11.5"
  }
 },
 "nbformat": 4,
 "nbformat_minor": 5
}
