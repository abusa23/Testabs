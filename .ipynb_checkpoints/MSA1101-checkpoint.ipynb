{
 "cells": [
  {
   "cell_type": "code",
   "execution_count": 1,
   "id": "ec17b4ac-aa03-480b-81cf-46f3fdcaeabc",
   "metadata": {},
   "outputs": [
    {
     "name": "stdout",
     "output_type": "stream",
     "text": [
      "24\n"
     ]
    }
   ],
   "source": [
    "# Number 1\n",
    "def recursive_ab(a, b):\n",
    "    if a < b:\n",
    "        return recursive_ab(b, a)\n",
    "    elif b != 0:\n",
    "        return(a + recursive_ab(a, b-1))\n",
    "    else: return 0\n",
    "a = 4  \n",
    "b = 6\n",
    "print(recursive_ab(a, b))"
   ]
  },
  {
   "cell_type": "code",
   "execution_count": 4,
   "id": "874ec5a8-f16a-4cca-9cf2-fead2fe9ccba",
   "metadata": {},
   "outputs": [
    {
     "name": "stdout",
     "output_type": "stream",
     "text": [
      "24\n",
      "24\n"
     ]
    }
   ],
   "source": [
    "# Number 2\n",
    "# The iteration function\n",
    "def product_iterative(list_of_numbers):\n",
    "    result = 1\n",
    "    for number in list_of_numbers:\n",
    "        result *= number\n",
    "    return result\n",
    "# The recursion function\n",
    "def product_recursive(list_of_numbers):\n",
    "    if len(list_of_numbers) == 0:\n",
    "        return 1\n",
    "    else:\n",
    "        return list_of_numbers[0] * product_recursive(list_of_numbers[1:])\n",
    "    \n",
    "list_of_numbers = [1, 2, 3, 4]\n",
    "\n",
    "#function call\n",
    "iteration = product_iterative(list_of_numbers)\n",
    "recursion = product_recursive(list_of_numbers)\n",
    "\n",
    "print(iteration)\n",
    "print(recursion)"
   ]
  },
  {
   "cell_type": "code",
   "execution_count": 15,
   "id": "96c4a855-edf9-4cd0-943e-5fd5b6ed27dd",
   "metadata": {},
   "outputs": [
    {
     "data": {
      "text/plain": [
       "(6, 7)"
      ]
     },
     "execution_count": 15,
     "metadata": {},
     "output_type": "execute_result"
    }
   ],
   "source": [
    "# Number 3\n",
    "\n",
    "def median_mean(list_of_numbers):\n",
    "\n",
    "#re-arrange the numbers\n",
    "    list_of_numbers.sort()\n",
    "\n",
    "#calculate the median of the list of numbers\n",
    "    if len(list_of_numbers) % 2 == 0:\n",
    "        a = len(list_of_numbers) // 2\n",
    "        b = len(list_of_numbers) // 2 - 1\n",
    "        median_of_list_of_numbers = (list_of_numbers[a] + list_of_numbers[b]) // 2\n",
    "    else:\n",
    "        len(list_of_numbers) % 2 == 1\n",
    "        median_of_list_of_numbers = list_of_numbers[a]\n",
    "\n",
    "#calculate the mean of the list of numbers\n",
    "    mean_of_list_of_numbers = sum(list_of_numbers) // len(list_of_numbers)\n",
    "    return median_of_list_of_numbers, mean_of_list_of_numbers\n",
    "    \n",
    "list_of_numbers = [1, 5, 3, 6, 5, 7, 9, 11, 13, 10]\n",
    "median_mean(list_of_numbers)"
   ]
  },
  {
   "cell_type": "code",
   "execution_count": null,
   "id": "b65dcc1a-f378-439d-a8ce-487356d8732e",
   "metadata": {},
   "outputs": [],
   "source": []
  }
 ],
 "metadata": {
  "kernelspec": {
   "display_name": "Python 3 (ipykernel)",
   "language": "python",
   "name": "python3"
  },
  "language_info": {
   "codemirror_mode": {
    "name": "ipython",
    "version": 3
   },
   "file_extension": ".py",
   "mimetype": "text/x-python",
   "name": "python",
   "nbconvert_exporter": "python",
   "pygments_lexer": "ipython3",
   "version": "3.11.5"
  }
 },
 "nbformat": 4,
 "nbformat_minor": 5
}
