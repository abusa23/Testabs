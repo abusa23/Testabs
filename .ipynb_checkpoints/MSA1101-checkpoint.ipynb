{
 "cells": [
  {
   "cell_type": "code",
   "execution_count": 7,
   "id": "ec17b4ac-aa03-480b-81cf-46f3fdcaeabc",
   "metadata": {},
   "outputs": [
    {
     "name": "stdout",
     "output_type": "stream",
     "text": [
      "2\n"
     ]
    }
   ],
   "source": [
    "def recursive_ab(a, b):\n",
    "    if a < b:\n",
    "        return recursive_ab(b, a)\n",
    "    elif b != 0:\n",
    "        return(a + recursive_ab(a, b-1))\n",
    "    else: return 0\n",
    "a = 1  \n",
    "b = 2\n",
    "print(recursive_ab(a, b))"
   ]
  },
  {
   "cell_type": "code",
   "execution_count": null,
   "id": "2ab703d2-0ae1-4269-9292-d23f3109644b",
   "metadata": {},
   "outputs": [],
   "source": []
  }
 ],
 "metadata": {
  "kernelspec": {
   "display_name": "Python 3 (ipykernel)",
   "language": "python",
   "name": "python3"
  },
  "language_info": {
   "codemirror_mode": {
    "name": "ipython",
    "version": 3
   },
   "file_extension": ".py",
   "mimetype": "text/x-python",
   "name": "python",
   "nbconvert_exporter": "python",
   "pygments_lexer": "ipython3",
   "version": "3.11.5"
  }
 },
 "nbformat": 4,
 "nbformat_minor": 5
}
