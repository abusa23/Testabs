{
 "cells": [
  {
   "cell_type": "code",
   "execution_count": 1,
   "id": "9fcb06f0",
   "metadata": {},
   "outputs": [
    {
     "name": "stdout",
     "output_type": "stream",
     "text": [
      "Number of Settlements: 3\n",
      "Duration:\n",
      "Settlement1: 78\n",
      "Settlement2: 3\n",
      "Settlement3: 34\n",
      "Settlement\t Dtn\t Begin\t End\n",
      "Settlement 2\t 3\t 0\t 3\n",
      "Settlement 3\t 34\t 3\t 37\n",
      "Settlement 1\t 78\t 37\t 115\n",
      "Average Duration to begin= 13\n",
      "Average Duration to finish= 51\n"
     ]
    }
   ],
   "source": [
    "'''Abusa Michael_2301200740_Project Demonstration'''\n",
    "\n",
    "# Code for scheduling Uganda Mass Verification exercise\n",
    "def main():\n",
    "\t# Taking the number of processes\n",
    "\tn = int(input(\"Number of Settlements: \"))\n",
    "\t# Matrix for storing settlement Id, activity duration (in days), average waiting time & Average turnaround time.\n",
    "\tA = [[0 for j in range(4)] for i in range(80)]\n",
    "\ttotal, avg_wt, avg_tat = 0, 0, 0\n",
    "\tprint(\"Duration:\")\n",
    "\tfor i in range(n): # User input activity duration and allotting settlement Id.\n",
    "\t\tA[i][1] = int(input(f\"Settlement{i+1}: \"))\n",
    "\t\tA[i][0] = i + 1\n",
    "\tfor i in range(n): # Sorting process according to their duration.\n",
    "\t\tindex = i\n",
    "\t\tfor j in range(i + 1, n):\n",
    "\t\t\tif A[j][1] < A[index][1]:\n",
    "\t\t\t\tindex = j\n",
    "                \n",
    "\t\ttemp = A[i][1]\n",
    "\t\tA[i][1] = A[index][1]\n",
    "\t\tA[index][1] = temp\n",
    "\t\ttemp = A[i][0]\n",
    "\t\tA[i][0] = A[index][0]\n",
    "\t\tA[index][0] = temp\n",
    "\tA[0][2] = 0 # Calculation of waiting time\n",
    "\tfor i in range(1, n):\n",
    "\t\tA[i][2] = 0\n",
    "\t\tfor j in range(i):\n",
    "\t\t\tA[i][2] += A[j][1]\n",
    "\t\ttotal += A[i][2]\n",
    "\tavg_wt = total // n\n",
    "\ttotal = 0\n",
    "\t# Calculation of time to completion and printing the data.\n",
    "\tprint(\"Settlement\t Dtn\t Begin\t End\")\n",
    "\tfor i in range(n):\n",
    "\t\tA[i][3] = A[i][1] + A[i][2]\n",
    "\t\ttotal += A[i][3]\n",
    "\t\tprint(f\"Settlement {A[i][0]}\t {A[i][1]}\t {A[i][2]}\t {A[i][3]}\")\n",
    "\tavg_tat = total // n\n",
    "\tprint(f\"Average Duration to begin= {avg_wt}\")\n",
    "\tprint(f\"Average Duration to finish= {avg_tat}\")\n",
    "if __name__ == \"__main__\":\n",
    "\tmain()"
   ]
  },
  {
   "cell_type": "code",
   "execution_count": null,
   "id": "2594547c",
   "metadata": {},
   "outputs": [],
   "source": []
  }
 ],
 "metadata": {
  "kernelspec": {
   "display_name": "Python 3 (ipykernel)",
   "language": "python",
   "name": "python3"
  },
  "language_info": {
   "codemirror_mode": {
    "name": "ipython",
    "version": 3
   },
   "file_extension": ".py",
   "mimetype": "text/x-python",
   "name": "python",
   "nbconvert_exporter": "python",
   "pygments_lexer": "ipython3",
   "version": "3.11.5"
  }
 },
 "nbformat": 4,
 "nbformat_minor": 5
}
