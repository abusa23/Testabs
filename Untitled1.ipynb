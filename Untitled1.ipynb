{
 "cells": [
  {
   "cell_type": "code",
   "execution_count": 1,
   "id": "27c42399-7ae7-4958-a1d5-894693af554f",
   "metadata": {},
   "outputs": [],
   "source": [
    "class CSP:\n",
    "    def __init__(self, variables, Domains, contraints):\n",
    "        self.variables = variables\n",
    "        self.domains = Domains\n",
    "        self.constraints = constraints\n",
    "        self.solution = None\n",
    "\n",
    "    def solve(self):\n",
    "        assignment = {}\n",
    "        self.solution = self.backtrack(assignment)\n",
    "        return self.solution\n",
    "\n",
    "    def backtrack(self, assignment):\n",
    "        if len(assignment) == len(self.variables):\n",
    "            return assignment\n",
    "\n",
    "        var = self.select_unassigned_variables(assignment)\n",
    "        for value in self.order_domain_values(var, assignment):\n",
    "            if self.is_consistent(var, value, assignment):\n",
    "                assignment[var] = value\n",
    "                result = self.backtrack(assignment)\n",
    "                if result is not None:\n",
    "                    return result\n",
    "\n",
    "                del asignment[var]\n",
    "\n",
    "        return None\n",
    "\n",
    "    def select_unassigned_variable(self, assignment):\n",
    "        unassigned_vars = [var for var in self.variables if var not in assignment]\n",
    "        return min(unassigned_vars, key=lambda var: len(self.domains[var]))\n",
    "\n",
    "    def is_consistent(slef, var, value, assignment):\n",
    "        for constraint_var in slef.constraints[var]:\n",
    "            if constraint_var in assignement and assignement[constraint_var] == value:\n",
    "                return False\n",
    "            return True\n",
    "\n",
    "    "
   ]
  },
  {
   "cell_type": "code",
   "execution_count": null,
   "id": "cb93f867-58dd-4969-92be-fbc44465bb99",
   "metadata": {},
   "outputs": [],
   "source": []
  }
 ],
 "metadata": {
  "kernelspec": {
   "display_name": "Python 3 (ipykernel)",
   "language": "python",
   "name": "python3"
  },
  "language_info": {
   "codemirror_mode": {
    "name": "ipython",
    "version": 3
   },
   "file_extension": ".py",
   "mimetype": "text/x-python",
   "name": "python",
   "nbconvert_exporter": "python",
   "pygments_lexer": "ipython3",
   "version": "3.11.5"
  }
 },
 "nbformat": 4,
 "nbformat_minor": 5
}
