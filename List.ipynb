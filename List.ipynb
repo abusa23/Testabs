{
 "cells": [
  {
   "cell_type": "code",
   "execution_count": 21,
   "id": "c3d33640-d6f4-49a2-82df-72d8a4a3e356",
   "metadata": {},
   "outputs": [
    {
     "name": "stdout",
     "output_type": "stream",
     "text": [
      "0\n",
      "1\n",
      "2\n",
      "3\n",
      "4\n",
      "5\n",
      "6\n",
      "7\n",
      "8\n",
      "9\n",
      "5\n",
      "6\n",
      "7\n",
      "8\n",
      "Pawpaw\n",
      "Orange\n",
      "Ovacado\n"
     ]
    }
   ],
   "source": [
    "# recall\n",
    "for x in range(0, 10):\n",
    "    print(x)\n",
    "    if x == 5:\n",
    "        continue\n",
    "for x in range(5, 10):\n",
    "    print(x)\n",
    "    if x == 8:\n",
    "        break"
   ]
  },
  {
   "cell_type": "code",
   "execution_count": 34,
   "id": "4442598f-ee73-4eb3-8b54-82b784c56469",
   "metadata": {},
   "outputs": [
    {
     "name": "stdout",
     "output_type": "stream",
     "text": [
      "Pawpaw\n",
      "Orange\n",
      "Ovacado\n",
      "Pawpaw\n",
      "Orange\n",
      "Ovacado\n",
      "Pineapple\n"
     ]
    }
   ],
   "source": [
    "list1 = [\"Pawpaw\", \"Orange\", \"Ovacado\", \"Pineapple\"]\n",
    "list2 = [\"Apple\", \"Berry\", \"Grapes\", \"Kiwi\"]\n",
    "for x in list1:\n",
    "    print(x)\n",
    "    if x == \"Ovacado\":\n",
    "        break\n",
    "# Terminating loop at [1]\n",
    "for x in list1:\n",
    "    break\n",
    "    if x == \"Orange\":\n",
    "        print(x)\n",
    "# Continuing with loop after [1]\n",
    "for x in list1:\n",
    "    print(x)\n",
    "    if x == \"Ovacado\":\n",
    "        continue"
   ]
  },
  {
   "cell_type": "code",
   "execution_count": 92,
   "id": "89908b34-6aaa-4fd5-9218-2b4891ef2f89",
   "metadata": {},
   "outputs": [
    {
     "name": "stdout",
     "output_type": "stream",
     "text": [
      "1\n",
      "Kiwi\n",
      "['Pawpaw', 'Orange', 'Berry', 'Ovacado', 'Pineapple', 'Apple', 'Berry', 'Grapes', 'Kiwi']\n",
      "['Apple', 'Berry', 'Grapes', 'Kiwi', 'Pawpaw', 'Orange', 'Berry', 'Ovacado', 'Pineapple', 'Apple', 'Berry', 'Grapes', 'Kiwi']\n",
      "['Apple', 'Berry', 'Grapes', 'Pawpaw', 'Orange', 'Berry', 'Ovacado', 'Pineapple', 'Apple', 'Berry', 'Grapes', 'Kiwi']\n",
      "['Apple', 'Berry', 'Grapes', 'Pawpaw', 'Orange', 'Berry', 'Pineapple', 'Apple', 'Berry', 'Grapes', 'Kiwi']\n",
      "[]\n"
     ]
    }
   ],
   "source": [
    "list1 = [\"Pawpaw\", \"Orange\", \"Ovacado\", \"Pineapple\"]\n",
    "list2 = [\"Apple\", \"Berry\", \"Grapes\", \"Kiwi\"]\n",
    "list1.extend(list2)\n",
    "print(1)\n",
    "# list2.append(list1)\n",
    "print(x)\n",
    "list1.insert(2, \"Berry\")\n",
    "print(list1)\n",
    "list2.extend(list1)\n",
    "print(list2)\n",
    "list2.remove(\"Kiwi\")\n",
    "print(list2)\n",
    "del list2[6]\n",
    "print(list2)\n",
    "list2.clear()\n",
    "print(list2)"
   ]
  },
  {
   "cell_type": "code",
   "execution_count": 91,
   "id": "de47abfb-24bb-48c4-822c-e954d52ea581",
   "metadata": {},
   "outputs": [
    {
     "name": "stdout",
     "output_type": "stream",
     "text": [
      "[]\n"
     ]
    }
   ],
   "source": [
    "list1 = [\"Pawpaw\", \"Orange\", \"Ovacado\", \"Pineapple\"]\n",
    "list2 = [\"Apple\", \"Berry\", \"Grapes\", \"Kiwi\"]\n"
   ]
  },
  {
   "cell_type": "code",
   "execution_count": null,
   "id": "b4fab52b-f5d0-4339-9bfd-307f2e0ab8c0",
   "metadata": {},
   "outputs": [],
   "source": []
  }
 ],
 "metadata": {
  "kernelspec": {
   "display_name": "Python 3 (ipykernel)",
   "language": "python",
   "name": "python3"
  },
  "language_info": {
   "codemirror_mode": {
    "name": "ipython",
    "version": 3
   },
   "file_extension": ".py",
   "mimetype": "text/x-python",
   "name": "python",
   "nbconvert_exporter": "python",
   "pygments_lexer": "ipython3",
   "version": "3.11.5"
  }
 },
 "nbformat": 4,
 "nbformat_minor": 5
}
